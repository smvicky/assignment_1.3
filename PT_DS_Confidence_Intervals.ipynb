{
  "nbformat": 4,
  "nbformat_minor": 0,
  "metadata": {
    "colab": {
      "provenance": [],
      "include_colab_link": true
    },
    "kernelspec": {
      "name": "python3",
      "display_name": "Python 3"
    }
  },
  "cells": [
    {
      "cell_type": "markdown",
      "metadata": {
        "id": "view-in-github",
        "colab_type": "text"
      },
      "source": [
        "<a href=\"https://colab.research.google.com/github/smvicky/assignment_1.3/blob/module2.3/PT_DS_Confidence_Intervals.ipynb\" target=\"_parent\"><img src=\"https://colab.research.google.com/assets/colab-badge.svg\" alt=\"Open In Colab\"/></a>"
      ]
    },
    {
      "cell_type": "markdown",
      "metadata": {
        "id": "838Dmw1kM2LK"
      },
      "source": [
        "# Pixeltests School Data Science Module\n",
        "## Confidence Intervals\n",
        "\n",
        "Objectives:\n",
        "\n",
        "- Student can explain the purpose of confidence intervals and identify applications for their use\n",
        "- Student can explain the implications of the central limit theorem in inferential statistics\n",
        "- Student can demonstrate how to build a confidence interval around a sample estimate\n",
        "- Student can report margin of error and visualize graphically a confidence interval to communicate the precision of sample estimates to a non-technical audience\n",
        "- Student can explain the concepts of statistical estimate, precision, and standard error in regards to inferential statistics\n"
      ]
    },
    {
      "cell_type": "markdown",
      "metadata": {
        "id": "3hi4kQm1XhlO"
      },
      "source": [
        "#What are confidence intervals?  Why make them?\n",
        "\n",
        "In the past two units, we've talked about two different hypothesis tests: the t-test for a population mean(s) and the chi-square test for the relationship between two categorical variables.\n",
        "\n",
        "When we reject the null hypothesis for a one-independent-sample t-test, we say we believe that the population mean is *not* equal to some reference value (recall that the null hypothesis is that the population mean *is* equal to a reference value).  \n",
        "\n",
        "However, rejecting the null hypothesis only gives us a clue to what we think the population mean *is not*.  "
      ]
    },
    {
      "cell_type": "markdown",
      "metadata": {
        "id": "dldAGyVreMyh"
      },
      "source": [
        "\n",
        "**The purpose of a confidence interval for a one-sample t-test is to allow us to estimate a population parameter (such as the population mean).**"
      ]
    },
    {
      "cell_type": "markdown",
      "metadata": {
        "id": "f1eSsOqceQ7U"
      },
      "source": [
        "\n",
        "Note that there are some analygous procedures for confidence intervals for chi-square tests and two-independent-sample t-tests, but we are going to focus on a confidence interval for a single population mean here."
      ]
    },
    {
      "cell_type": "markdown",
      "metadata": {
        "id": "X9guE5l-iO3E"
      },
      "source": [
        "#Informal Confidence Intervals in Daily Life\n",
        "\n",
        "Believe it or not, you already use the concept of a confidence interval all the time in your daily life.\n",
        "\n",
        "\n",
        "*   \"How long will it take the brownies to bake?\"  About 35 - 40 minutes.\n",
        "*   \"How many cookies should I bake for the bake sale?\"  Probably around 2 - 3 dozen.\n",
        "*   \"How many loaves of bread will the bakery sell today?\" Around 90 - 100.\n",
        "\n",
        "The true answer to all of these questions is unknowable ahead of time.  Exactly how long it will take the brownies to bake probably depends on a zillion factors including how well your oven is working, how hot and humid it is, the age of the eggs you use, etc.\n",
        "\n",
        "However, based on personal experience - and perhaps the recipe - we can be very confident that it will take between 35 - 40 minutes for the brownies to be done.  \n",
        "\n",
        "Estimates in the other two scenarios work similarly."
      ]
    },
    {
      "cell_type": "markdown",
      "metadata": {
        "id": "Hntf1OWLlEPA"
      },
      "source": [
        "# The Anatomy of a Confidence Interval\n",
        "\n",
        "Here comes the math part!\n",
        "\n",
        "When we make brownies, we make an informal confidence interval for how long it will take for them to bake based on the recipe and our baking knowledge.\n",
        "\n",
        "**When we make a confidence interval for a population mean, we will use information from our sample (i.e., the mean) and mathematical properties of the t-distribution.**"
      ]
    },
    {
      "cell_type": "markdown",
      "metadata": {
        "id": "J82wyqTElunD"
      },
      "source": [
        "##The formula for a confidence interval for a population mean is\n",
        "\n",
        "###$\\bar{X}$  $\\pm$  $t^* \\frac{s}{\\sqrt{n}}$\n",
        "\n"
      ]
    },
    {
      "cell_type": "code",
      "metadata": {
        "id": "OcapuZ2p0yXw"
      },
      "source": [],
      "execution_count": null,
      "outputs": []
    },
    {
      "cell_type": "markdown",
      "metadata": {
        "id": "VhV8zLlYtF4M"
      },
      "source": [
        "Where $\\bar{X}$ is the sample mean, s is the sample standard deviation and n is the sample size.\n",
        "\n",
        "Note that $\\frac{s}{\\sqrt{n}}$ is the standard error, which is an estimate of the true standard deviation of the sample mean.  \n",
        "\n",
        "**Another name for the quantitiy $t^* \\frac{s}{\\sqrt{n}}$ is the margin of error.**\n",
        "\n",
        "Nearly all of the information we need to estimate the population mean using a confidence interval comes from our sample.  The only thing we don't get from the sample is t*.\n",
        "\n",
        "Now is the time to introduce some data."
      ]
    },
    {
      "cell_type": "markdown",
      "metadata": {
        "id": "V5Z3MSNfo3La"
      },
      "source": [
        "# Estimate the mean healthy adult human body temperature.\n",
        "\n",
        "Everyone knows that 98.60 F (37.00 C) is the normal human body temperature.  But is that actually correct, and – come to think of it – how does everyone know that in the first place?\n",
        "\n",
        "A German physician named Carl Reinhold August Wunderlich is generally credited with originating this idea, which was based on – reportedly – more than one million axiliary temperature readings taken from 25,000 subjects and was published in his 1868 book Das Verhalten der Eigenwärme in Krankheiten (which translates to The Behavior of the Self-Warmth in Diseases). But was he correct? History tells that his thermometer was a foot long and took 20 minutes to determine a subject’s temperature. For a measure that is used so often to determine general health, it would be a good idea to use modern instruments to confirm or refute his results.\n",
        "\n",
        "In 1992, three physicians from the University of Maryland School of Medicine set out to do just that, measuring body temperatures for 223 healthy men and women aged 18-40 one to four times a day for three consecutive days using an electronic digital thermometer. The mean body temperature was computed for each individual, and this summary measure is recorded in the Bodytemp.csv dataset."
      ]
    },
    {
      "cell_type": "markdown",
      "metadata": {
        "id": "jzgOTeBvtl6D"
      },
      "source": [
        "**We wish to estimate the population mean healthy human body temperature.**"
      ]
    },
    {
      "cell_type": "markdown",
      "metadata": {
        "id": "_dDAP94KtvWP"
      },
      "source": [
        "Source: Mackowiak, P. A., Wasserman, S. S., and Levine, M. M.  (1992), \"A Critical Appraisal of 98.6 Degrees F, the Upper Limit of the Normal Body Temperature, and Other Legacies of Carl Reinhold August Wunderlich,\" Journal of the American Medical Association_, 268, 1578-1580.\n"
      ]
    },
    {
      "cell_type": "code",
      "metadata": {
        "id": "fGaZspmft1Jg",
        "colab": {
          "base_uri": "https://localhost:8080/",
          "height": 220
        },
        "outputId": "59d93fd1-e6b9-4018-b2af-9a98716008dd"
      },
      "source": [
        "import pandas as pd\n",
        "import numpy as np\n",
        "\n",
        "\n",
        "data_url = 'https://raw.githubusercontent.com/pixeltests/datasets/main/BodyTemp.csv'\n",
        "\n",
        "df = pd.read_csv(data_url, skipinitialspace=True, header=0)\n",
        "\n",
        "print(df.shape)\n",
        "df.head()\n"
      ],
      "execution_count": null,
      "outputs": [
        {
          "output_type": "stream",
          "text": [
            "(223, 2)\n"
          ],
          "name": "stdout"
        },
        {
          "output_type": "execute_result",
          "data": {
            "text/html": [
              "<div>\n",
              "<style scoped>\n",
              "    .dataframe tbody tr th:only-of-type {\n",
              "        vertical-align: middle;\n",
              "    }\n",
              "\n",
              "    .dataframe tbody tr th {\n",
              "        vertical-align: top;\n",
              "    }\n",
              "\n",
              "    .dataframe thead th {\n",
              "        text-align: right;\n",
              "    }\n",
              "</style>\n",
              "<table border=\"1\" class=\"dataframe\">\n",
              "  <thead>\n",
              "    <tr style=\"text-align: right;\">\n",
              "      <th></th>\n",
              "      <th>ID</th>\n",
              "      <th>Body_temp</th>\n",
              "    </tr>\n",
              "  </thead>\n",
              "  <tbody>\n",
              "    <tr>\n",
              "      <th>0</th>\n",
              "      <td>36</td>\n",
              "      <td>96.7</td>\n",
              "    </tr>\n",
              "    <tr>\n",
              "      <th>1</th>\n",
              "      <td>254</td>\n",
              "      <td>96.9</td>\n",
              "    </tr>\n",
              "    <tr>\n",
              "      <th>2</th>\n",
              "      <td>282</td>\n",
              "      <td>97.0</td>\n",
              "    </tr>\n",
              "    <tr>\n",
              "      <th>3</th>\n",
              "      <td>286</td>\n",
              "      <td>97.0</td>\n",
              "    </tr>\n",
              "    <tr>\n",
              "      <th>4</th>\n",
              "      <td>302</td>\n",
              "      <td>97.0</td>\n",
              "    </tr>\n",
              "  </tbody>\n",
              "</table>\n",
              "</div>"
            ],
            "text/plain": [
              "    ID  Body_temp\n",
              "0   36       96.7\n",
              "1  254       96.9\n",
              "2  282       97.0\n",
              "3  286       97.0\n",
              "4  302       97.0"
            ]
          },
          "metadata": {
            "tags": []
          },
          "execution_count": 31
        }
      ]
    },
    {
      "cell_type": "code",
      "metadata": {
        "colab": {
          "base_uri": "https://localhost:8080/",
          "height": 662
        },
        "id": "ofKPBepw8iZS",
        "outputId": "614af11f-fb2d-4780-9bbf-ae1356836366"
      },
      "source": [
        "subset = df.sample(n=20)\n",
        "subset"
      ],
      "execution_count": null,
      "outputs": [
        {
          "output_type": "execute_result",
          "data": {
            "text/html": [
              "<div>\n",
              "<style scoped>\n",
              "    .dataframe tbody tr th:only-of-type {\n",
              "        vertical-align: middle;\n",
              "    }\n",
              "\n",
              "    .dataframe tbody tr th {\n",
              "        vertical-align: top;\n",
              "    }\n",
              "\n",
              "    .dataframe thead th {\n",
              "        text-align: right;\n",
              "    }\n",
              "</style>\n",
              "<table border=\"1\" class=\"dataframe\">\n",
              "  <thead>\n",
              "    <tr style=\"text-align: right;\">\n",
              "      <th></th>\n",
              "      <th>ID</th>\n",
              "      <th>Body_temp</th>\n",
              "    </tr>\n",
              "  </thead>\n",
              "  <tbody>\n",
              "    <tr>\n",
              "      <th>174</th>\n",
              "      <td>173</td>\n",
              "      <td>98.6</td>\n",
              "    </tr>\n",
              "    <tr>\n",
              "      <th>220</th>\n",
              "      <td>231</td>\n",
              "      <td>99.4</td>\n",
              "    </tr>\n",
              "    <tr>\n",
              "      <th>183</th>\n",
              "      <td>279</td>\n",
              "      <td>98.6</td>\n",
              "    </tr>\n",
              "    <tr>\n",
              "      <th>95</th>\n",
              "      <td>166</td>\n",
              "      <td>98.1</td>\n",
              "    </tr>\n",
              "    <tr>\n",
              "      <th>62</th>\n",
              "      <td>45</td>\n",
              "      <td>97.9</td>\n",
              "    </tr>\n",
              "    <tr>\n",
              "      <th>199</th>\n",
              "      <td>77</td>\n",
              "      <td>98.9</td>\n",
              "    </tr>\n",
              "    <tr>\n",
              "      <th>103</th>\n",
              "      <td>81</td>\n",
              "      <td>98.1</td>\n",
              "    </tr>\n",
              "    <tr>\n",
              "      <th>51</th>\n",
              "      <td>227</td>\n",
              "      <td>97.8</td>\n",
              "    </tr>\n",
              "    <tr>\n",
              "      <th>152</th>\n",
              "      <td>276</td>\n",
              "      <td>98.4</td>\n",
              "    </tr>\n",
              "    <tr>\n",
              "      <th>110</th>\n",
              "      <td>250</td>\n",
              "      <td>98.1</td>\n",
              "    </tr>\n",
              "    <tr>\n",
              "      <th>218</th>\n",
              "      <td>82</td>\n",
              "      <td>99.3</td>\n",
              "    </tr>\n",
              "    <tr>\n",
              "      <th>28</th>\n",
              "      <td>16</td>\n",
              "      <td>97.6</td>\n",
              "    </tr>\n",
              "    <tr>\n",
              "      <th>198</th>\n",
              "      <td>222</td>\n",
              "      <td>98.8</td>\n",
              "    </tr>\n",
              "    <tr>\n",
              "      <th>142</th>\n",
              "      <td>179</td>\n",
              "      <td>98.4</td>\n",
              "    </tr>\n",
              "    <tr>\n",
              "      <th>178</th>\n",
              "      <td>18</td>\n",
              "      <td>98.6</td>\n",
              "    </tr>\n",
              "    <tr>\n",
              "      <th>74</th>\n",
              "      <td>162</td>\n",
              "      <td>98.0</td>\n",
              "    </tr>\n",
              "    <tr>\n",
              "      <th>217</th>\n",
              "      <td>138</td>\n",
              "      <td>99.2</td>\n",
              "    </tr>\n",
              "    <tr>\n",
              "      <th>0</th>\n",
              "      <td>36</td>\n",
              "      <td>96.7</td>\n",
              "    </tr>\n",
              "    <tr>\n",
              "      <th>83</th>\n",
              "      <td>144</td>\n",
              "      <td>98.0</td>\n",
              "    </tr>\n",
              "    <tr>\n",
              "      <th>26</th>\n",
              "      <td>301</td>\n",
              "      <td>97.5</td>\n",
              "    </tr>\n",
              "  </tbody>\n",
              "</table>\n",
              "</div>"
            ],
            "text/plain": [
              "      ID  Body_temp\n",
              "174  173       98.6\n",
              "220  231       99.4\n",
              "183  279       98.6\n",
              "95   166       98.1\n",
              "62    45       97.9\n",
              "199   77       98.9\n",
              "103   81       98.1\n",
              "51   227       97.8\n",
              "152  276       98.4\n",
              "110  250       98.1\n",
              "218   82       99.3\n",
              "28    16       97.6\n",
              "198  222       98.8\n",
              "142  179       98.4\n",
              "178   18       98.6\n",
              "74   162       98.0\n",
              "217  138       99.2\n",
              "0     36       96.7\n",
              "83   144       98.0\n",
              "26   301       97.5"
            ]
          },
          "metadata": {
            "tags": []
          },
          "execution_count": 34
        }
      ]
    },
    {
      "cell_type": "code",
      "metadata": {
        "id": "tBd6BH9z8fva"
      },
      "source": [
        "\n",
        "\n",
        "\n",
        "# The more accurate you want to be (the more likely you want\n",
        "# to be able to capture the true population mean in your CI,\n",
        "# the less precise your CI will be (the wider the range).\n",
        "\n",
        "# plt.axvline(98.6, color='red')"
      ],
      "execution_count": null,
      "outputs": []
    },
    {
      "cell_type": "markdown",
      "metadata": {
        "id": "LD5fogYFumvA"
      },
      "source": [
        "The two variables in the dataset are participant ID and body temperature measured in degrees F."
      ]
    },
    {
      "cell_type": "markdown",
      "metadata": {
        "id": "Iq7trJxEu2On"
      },
      "source": [
        "We can use the mean, sd and row counting functions in Python to calculate and save the sample mean body temp ($\\bar{X}$ for the CI formula), the sample standard deviation (s in the CI formula) and the sample size (n in the formula)."
      ]
    },
    {
      "cell_type": "code",
      "metadata": {
        "colab": {
          "base_uri": "https://localhost:8080/"
        },
        "id": "MVCyVAGs_G-D",
        "outputId": "8f649470-d67b-4c78-f8b5-8913e50790cb"
      },
      "source": [
        "df['Body_temp'].describe()"
      ],
      "execution_count": null,
      "outputs": [
        {
          "output_type": "execute_result",
          "data": {
            "text/plain": [
              "count    223.000000\n",
              "mean      98.165022\n",
              "std        0.527305\n",
              "min       96.700000\n",
              "25%       97.800000\n",
              "50%       98.200000\n",
              "75%       98.500000\n",
              "max       99.600000\n",
              "Name: Body_temp, dtype: float64"
            ]
          },
          "metadata": {
            "tags": []
          },
          "execution_count": 44
        }
      ]
    },
    {
      "cell_type": "code",
      "metadata": {
        "id": "CXbaQDV6uviK",
        "colab": {
          "base_uri": "https://localhost:8080/"
        },
        "outputId": "af3743a9-3fc5-458f-cfd6-66483408d376"
      },
      "source": [
        "#Calculate mean\n",
        "mean_body_temp = df['Body_temp'].mean()\n",
        "mean_body_temp"
      ],
      "execution_count": null,
      "outputs": [
        {
          "output_type": "execute_result",
          "data": {
            "text/plain": [
              "98.16502242152464"
            ]
          },
          "metadata": {
            "tags": []
          },
          "execution_count": 43
        }
      ]
    },
    {
      "cell_type": "code",
      "metadata": {
        "id": "lBM_l8vovvW9",
        "colab": {
          "base_uri": "https://localhost:8080/"
        },
        "outputId": "0e1fa622-530b-4cdc-9f80-cc8f2062a60c"
      },
      "source": [
        "#Calculate SD\n",
        "sd_body_temp = df['Body_temp'].std()\n",
        "sd_body_temp"
      ],
      "execution_count": null,
      "outputs": [
        {
          "output_type": "execute_result",
          "data": {
            "text/plain": [
              "0.5273047859946364"
            ]
          },
          "metadata": {
            "tags": []
          },
          "execution_count": 4
        }
      ]
    },
    {
      "cell_type": "code",
      "metadata": {
        "id": "iDmBJP6JwRCa",
        "colab": {
          "base_uri": "https://localhost:8080/"
        },
        "outputId": "cdf73a8e-4db1-4688-96dc-933227b16f02"
      },
      "source": [
        "#Calculate n\n",
        "n_body_temp = len(df)\n",
        "n_body_temp"
      ],
      "execution_count": null,
      "outputs": [
        {
          "output_type": "execute_result",
          "data": {
            "text/plain": [
              "223"
            ]
          },
          "metadata": {
            "tags": []
          },
          "execution_count": 45
        }
      ]
    },
    {
      "cell_type": "markdown",
      "metadata": {
        "id": "Bw3jaPyUwj14"
      },
      "source": [
        "We can calculate the standard error of the sample mean by dividing the sd of the sample by the square root of the sample size."
      ]
    },
    {
      "cell_type": "code",
      "metadata": {
        "id": "FiCestjGw3ym",
        "colab": {
          "base_uri": "https://localhost:8080/"
        },
        "outputId": "e56669f6-a08c-4542-e410-a396f47c1a03"
      },
      "source": [
        "#Calculate SE (Standard Error)\n",
        "se_body_temp = sd_body_temp / np.sqrt(n_body_temp)\n",
        "se_body_temp"
      ],
      "execution_count": null,
      "outputs": [
        {
          "output_type": "execute_result",
          "data": {
            "text/plain": [
              "0.035310940220425246"
            ]
          },
          "metadata": {
            "tags": []
          },
          "execution_count": 46
        }
      ]
    },
    {
      "cell_type": "code",
      "metadata": {
        "colab": {
          "base_uri": "https://localhost:8080/"
        },
        "id": "wKFM3qEK2IT-",
        "outputId": "3bac42c6-5647-40e4-e7b6-57b89b90f407"
      },
      "source": [
        "se_body_temp = df['Body_temp'].sem()\n",
        "print (se_body_temp)"
      ],
      "execution_count": null,
      "outputs": [
        {
          "output_type": "stream",
          "text": [
            "0.035310940220425246\n"
          ],
          "name": "stdout"
        }
      ]
    },
    {
      "cell_type": "markdown",
      "metadata": {
        "id": "pVyP9nnNxSfn"
      },
      "source": [
        "Let's plug these quantities into the CI formula.  We're almost there!\n",
        "\n",
        "###$\\bar{X}$  $\\pm$  $t^* \\frac{s}{\\sqrt{n}}$\n",
        "\n",
        "\n",
        "98.17 $\\pm$ $t^* \\frac{0.53}{\\sqrt{223}}$\n",
        "\n",
        "98.17 $\\pm$ $t^* * 0.035$"
      ]
    },
    {
      "cell_type": "markdown",
      "metadata": {
        "id": "F5wCLNKKygV0"
      },
      "source": [
        "So what is t*?????\n",
        "\n",
        "Let's look carefully at what the CI equation is saying.\n",
        "\n",
        "We are going to use our sample mean as the starting point for estimating the population mean.  That seems like a good idea.\n",
        "\n",
        "Then we are going to add and subtract some number of standard errors from the sample mean to get the range of values that will be our confidence interval.\n",
        "\n",
        "**t* is the number that tells us how many standard errors to add and subtract from the sample mean in the CI formula.**\n",
        "\n",
        "How do we calculate t*?"
      ]
    },
    {
      "cell_type": "markdown",
      "metadata": {
        "id": "IpIREjCjzLXW"
      },
      "source": [
        "#A Brief Digression Into the Central Limit Thoerem"
      ]
    },
    {
      "cell_type": "markdown",
      "metadata": {
        "id": "LsEAjc4rOylm"
      },
      "source": [
        "The Central Limit Theorem (or CLT) tell us that, as long as the sample size is big enough (about 30-40), the distribution of the sample mean is Normal with a mean equal to the population mean and a standard deviation equal to $\\frac{\\sigma}{\\sqrt{n}}$ .\n",
        "\n",
        "How do we know this?  Take a graduate level statistics class to find out!  Just kidding, but only kind of.  It has to do with limit calculus and is beyond the scope of what we are doing right now.\n",
        "\n",
        "Because we are actually estimating two population parameters (both the population mean and the population standard deviation) we need to amend the CLT statement above a tiny bit.\n",
        "\n",
        "As long as the sample size is big enough (about 40), the distribution of the sample mean has a **t-distribution** with a mean equal to the population mean, a standard deviation equal to $\\frac{s}{\\sqrt{n}}$, and n-1 degrees of freedom.\n",
        "\n",
        "Let's look at a picture:\n"
      ]
    },
    {
      "cell_type": "markdown",
      "metadata": {
        "id": "CcKENTkl3K78"
      },
      "source": [
        "![alt text](https://raw.githubusercontent.com/Chelsea-Myers/Lambda-Intro/master/T-dist%201.png)\n"
      ]
    },
    {
      "cell_type": "markdown",
      "metadata": {
        "id": "wOMBTcNe4Nx5"
      },
      "source": [
        "In fact, **the CLT tells us to expect 95% of sample means to be within about 2 standard errors of the population mean.**\n",
        "\n",
        "The reason that we say \"about\" 2 is that the exact number of standard errors we need to add and subtract to be 95% confident about the population mean will depend on our sample size in the form of the degrees of freedom (n - 1).  We will talk about DOF later."
      ]
    },
    {
      "cell_type": "markdown",
      "metadata": {
        "id": "at_6QBNz46gJ"
      },
      "source": [
        "The CLT allows us to be a little bit more specific about our confidence interval formula.\n",
        "\n",
        "We can now say that:\n",
        "\n",
        "\"We are 95% confident that the true population mean falls between about 2SEs below the sample mean and about 2SEs above the sample mean.\""
      ]
    },
    {
      "cell_type": "markdown",
      "metadata": {
        "id": "DPCLxjL15TxY"
      },
      "source": [
        "**We have to use Python to get the exact value of t* for the CI formula.**"
      ]
    },
    {
      "cell_type": "code",
      "metadata": {
        "id": "vrDJaaQ25hA7",
        "colab": {
          "base_uri": "https://localhost:8080/"
        },
        "outputId": "f6c8ff12-dc08-4567-e2f4-d4bb378102bb"
      },
      "source": [
        "from scipy.stats import t\n",
        "#Don't worry too much about where the 0.975 comes from.  It has to do\n",
        "#with wanting to determine the *middle* 95% of the t-distribution\n",
        "#We're going to learn\n",
        "#how to calculate a 95% CI this easy way in just a minute.\n",
        "\n",
        "#Recall that n = 223 for the body temp problem.\n",
        "df_body_temp = n_body_temp - 1\n",
        "# t_star = t.ppf(0.99,df=df_body_temp)\n",
        "t_star = t.ppf(0.99,df=223)\n",
        "t_star"
      ],
      "execution_count": null,
      "outputs": [
        {
          "output_type": "execute_result",
          "data": {
            "text/plain": [
              "2.343185806508914"
            ]
          },
          "metadata": {
            "tags": []
          },
          "execution_count": 59
        }
      ]
    },
    {
      "cell_type": "markdown",
      "metadata": {
        "id": "cieCHcI2FNLe"
      },
      "source": [
        "![middle .95.png](data:image/png;base64,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)"
      ]
    },
    {
      "cell_type": "markdown",
      "metadata": {
        "id": "cbF7ACCR75CX"
      },
      "source": [
        "#Back to body temperature!\n",
        "\n",
        "We left off in the body temperature example with:\n",
        "\n",
        "A confidence interval of\n",
        "\n",
        "98.17 $\\pm$ $t^* * 0.035$\n",
        "\n",
        "We know from the CLT that t* should be somewhere around 2 for a 95% confidence interval.\n",
        "\n",
        "And further, using Python, we know that t* for a 95% confidence interval for the body temperature data = 1.97 (quick check - this is very close to 2).\n",
        "\n",
        "98.17 $\\pm$ 1.97 * 0.035\n",
        "\n",
        "The margin of error = 1.97 * 0.035 = 0.07.\n",
        "\n"
      ]
    },
    {
      "cell_type": "code",
      "metadata": {
        "id": "9LeY2Usv80uR",
        "colab": {
          "base_uri": "https://localhost:8080/"
        },
        "outputId": "65190c3b-af3b-4ab3-e0fc-3985dd108c49"
      },
      "source": [
        "#recall that we calculated mean_bodytem etc. above.\n",
        "\n",
        "#Calculate the lower confidence limit\n",
        "\n",
        "# Lower confidence limit\n",
        "\n",
        "Lower_CL = mean_body_temp - (t_star * se_body_temp)\n",
        "Lower_CL"
      ],
      "execution_count": null,
      "outputs": [
        {
          "output_type": "execute_result",
          "data": {
            "text/plain": [
              "98.08228232758566"
            ]
          },
          "metadata": {
            "tags": []
          },
          "execution_count": 61
        }
      ]
    },
    {
      "cell_type": "code",
      "metadata": {
        "colab": {
          "base_uri": "https://localhost:8080/"
        },
        "id": "hCXm-hzW8y6T",
        "outputId": "88c715a1-44e4-4e8b-bb8e-cfc9b3075d51"
      },
      "source": [
        "Lower_CL = mean_body_temp - (2 * se_body_temp)\n",
        "Lower_CL"
      ],
      "execution_count": null,
      "outputs": [
        {
          "output_type": "execute_result",
          "data": {
            "text/plain": [
              "98.09440054108379"
            ]
          },
          "metadata": {
            "tags": []
          },
          "execution_count": 62
        }
      ]
    },
    {
      "cell_type": "code",
      "metadata": {
        "id": "gkkpkRf09IH3",
        "colab": {
          "base_uri": "https://localhost:8080/"
        },
        "outputId": "64db243b-2ce1-4da5-a394-cc0e9b23f362"
      },
      "source": [
        "#Calculate the upper confidence limit\n",
        "\n",
        "Upper_CL = mean_body_temp + (t_star * se_body_temp)\n",
        "Upper_CL"
      ],
      "execution_count": null,
      "outputs": [
        {
          "output_type": "execute_result",
          "data": {
            "text/plain": [
              "98.24776251546362"
            ]
          },
          "metadata": {
            "tags": []
          },
          "execution_count": 63
        }
      ]
    },
    {
      "cell_type": "markdown",
      "metadata": {
        "id": "4M3IaJbp9w9d"
      },
      "source": [
        "In conclusion, we are 95% confident that the population mean healthy human body temperature is between ?????????"
      ]
    },
    {
      "cell_type": "markdown",
      "metadata": {
        "id": "9_HLIcFW-J1R"
      },
      "source": [
        "#Want to see how to do this the easy way?"
      ]
    },
    {
      "cell_type": "code",
      "metadata": {
        "id": "ZrIe9Q6G-PRw",
        "colab": {
          "base_uri": "https://localhost:8080/"
        },
        "outputId": "0b7355f7-05cf-42ec-ab0b-4103ecd4a8a1"
      },
      "source": [
        "#We can use the t.interval funtion to calculate the CI.\n",
        "#We set the loc parameter equal to the mean and the\n",
        "#scale parameter equal to the SE\n",
        "#Alpha = 0.95 means we want a 95% CI\n",
        "\n",
        "#Calculate your t-interval here.\n",
        "t.interval(alpha = 0.95, df=df_body_temp, loc=mean_body_temp, scale=se_body_temp)"
      ],
      "execution_count": null,
      "outputs": [
        {
          "output_type": "execute_result",
          "data": {
            "text/plain": [
              "(98.09543489049658, 98.2346099525527)"
            ]
          },
          "metadata": {
            "tags": []
          },
          "execution_count": 64
        }
      ]
    },
    {
      "cell_type": "markdown",
      "metadata": {
        "id": "ddU3CxMF_6bS"
      },
      "source": [
        "Note that we get exactly the same answer as we got working by hand."
      ]
    },
    {
      "cell_type": "markdown",
      "metadata": {
        "id": "O5n-LBjYAFG6"
      },
      "source": [
        "#But I want to be X% confident!\n",
        "\n",
        "Because the confidence level is determined by t* and that's just a number, you can use any confidence level you want.  However, most commonly, we choose to be 90%, 95% or 99% confident.\n",
        "\n",
        "We can tune the confidence level by changing the alpha parameter in the CI funtion."
      ]
    },
    {
      "cell_type": "code",
      "metadata": {
        "id": "dE4rPilLAket",
        "colab": {
          "base_uri": "https://localhost:8080/"
        },
        "outputId": "417236a4-6a5f-4b3d-b4d3-89da5d7a0558"
      },
      "source": [
        "#90% Confidence Interval\n",
        "\n",
        "t.interval(alpha = 0.90, df=df_body_temp, loc=mean_body_temp, scale=se_body_temp)"
      ],
      "execution_count": null,
      "outputs": [
        {
          "output_type": "execute_result",
          "data": {
            "text/plain": [
              "(98.106697704594, 98.22334713845528)"
            ]
          },
          "metadata": {
            "tags": []
          },
          "execution_count": 65
        }
      ]
    },
    {
      "cell_type": "code",
      "metadata": {
        "colab": {
          "base_uri": "https://localhost:8080/",
          "height": 353
        },
        "id": "TAUTduez-JXB",
        "outputId": "edca7a7d-6d08-4b6b-9b8f-f900d972dbb1"
      },
      "source": [
        "import matplotlib.pyplot as plt\n",
        "import seaborn as sns\n",
        "\n",
        "# Resample data with smaller sample size\n",
        "subset = df.sample(n=10)\n",
        "\n",
        "# Calculate sample / population estimate\n",
        "sample_mean = subset['Body_temp'].mean() # Sample Mean\n",
        "sample_sem = subset['Body_temp'].sem() # Standard Error of the Mean\n",
        "sample_df = len(subset['Body_temp']) - 1 # Degrees of Freedom\n",
        "ci = 0.95  # Confidence Interval\n",
        "Lower_CI, Upper_CI = t.interval(alpha = ci, df=sample_df, loc=sample_mean, scale=sample_sem)\n",
        "\n",
        "ci = 0.90  # Confidence Interval\n",
        "Lower_CI_90, Upper_CI_90 = t.interval(alpha = ci, df=sample_df, loc=sample_mean, scale=sample_sem)\n",
        "\n",
        "ci = 0.99  # Confidence Interval\n",
        "Lower_CI_99, Upper_CI_99 = t.interval(alpha = ci, df=sample_df, loc=sample_mean, scale=sample_sem)\n",
        "\n",
        "# Plot the sample statistics\n",
        "print ('Sample size n=', len(subset))\n",
        "sns.distplot(subset['Body_temp'])\n",
        "\n",
        "plt.axvline(sample_mean, color='black', label='Sample Mean')\n",
        "plt.axvline(Upper_CI, color='gray', label='Confidence Interval - 95') # Upper Bound of our 95% Confidence Interval\n",
        "plt.axvline(Lower_CI, color='gray'); # Lower Bound of our 95% Confidence Interval\n",
        "plt.axvline(Upper_CI_90, color='black', label='Confidence Interval- 90') # Upper Bound of our 90% Confidence Interval\n",
        "plt.axvline(Lower_CI_90, color='black'); # Lower Bound of our 90% Confidence Interval\n",
        "plt.axvline(Upper_CI_99, color='green', label='Confidence Interval- 99') # Upper Bound of our 99% Confidence Interval\n",
        "plt.axvline(Lower_CI_99, color='green'); # Lower Bound of our 99% Confidence Interval\n",
        "\n",
        "# 90th CI: p < 0.10 is statistically significant (reject our Ho)\n",
        "# 95th CI: p < 0.05 is statistically significant (reject our Ho)\n",
        "# 99th CI: p < 0.01 is statistically significant (reject our Ho)\n",
        "#    With the 99% CI, there is a lower change of a false positive; it\n",
        "#    will be more difficult to capture the reference value between the\n",
        "#    upper and lower CI.\n",
        "\n",
        "plt.axvline(98.6, color='red', label='Reference Value')\n",
        "plt.legend();"
      ],
      "execution_count": null,
      "outputs": [
        {
          "output_type": "stream",
          "text": [
            "Sample size n= 10\n"
          ],
          "name": "stdout"
        },
        {
          "output_type": "stream",
          "text": [
            "/usr/local/lib/python3.7/dist-packages/seaborn/distributions.py:2557: FutureWarning: `distplot` is a deprecated function and will be removed in a future version. Please adapt your code to use either `displot` (a figure-level function with similar flexibility) or `histplot` (an axes-level function for histograms).\n",
            "  warnings.warn(msg, FutureWarning)\n"
          ],
          "name": "stderr"
        },
        {
          "output_type": "display_data",
          "data": {
            "image/png": "[encoded data removed]",
            "text/plain": [
              "<Figure size 432x288 with 1 Axes>"
            ]
          },
          "metadata": {
            "tags": [],
            "needs_background": "light"
          }
        }
      ]
    },
    {
      "cell_type": "code",
      "metadata": {
        "id": "tBx71Kf0UjT3",
        "colab": {
          "base_uri": "https://localhost:8080/"
        },
        "outputId": "9b3ccefb-dc0d-49b9-f1cc-87b9a3ca7534"
      },
      "source": [
        "#95% Confidence Interval\n",
        "t.interval(alpha = 0.95, df=df_body_temp, loc=mean_body_temp, scale=se_body_temp)"
      ],
      "execution_count": null,
      "outputs": [
        {
          "output_type": "execute_result",
          "data": {
            "text/plain": [
              "(98.09543489049658, 98.2346099525527)"
            ]
          },
          "metadata": {
            "tags": []
          },
          "execution_count": 68
        }
      ]
    },
    {
      "cell_type": "code",
      "metadata": {
        "id": "tZO8TYrqBoDx",
        "colab": {
          "base_uri": "https://localhost:8080/"
        },
        "outputId": "3967dbc6-6f16-4ab7-ee40-cb030950aed4"
      },
      "source": [
        "#99% Confidence Interval\n",
        "t.interval(alpha = 0.99, df=df_body_temp, loc=mean_body_temp, scale=se_body_temp)"
      ],
      "execution_count": null,
      "outputs": [
        {
          "output_type": "execute_result",
          "data": {
            "text/plain": [
              "(98.0732790800297, 98.25676576301957)"
            ]
          },
          "metadata": {
            "tags": []
          },
          "execution_count": 69
        }
      ]
    },
    {
      "cell_type": "markdown",
      "metadata": {
        "id": "TZSvAjc4AwC2"
      },
      "source": [
        "#But I want to be 100% confident!\n",
        "\n",
        "Let's take a very, very close look at the confidence intervals above.  This is subtle - out in the 100ths place of the decimals.\n",
        "\n",
        "The 90% confidence interval is the *narrowest* - it includes the smallest range of values - and the 99% confidence interval is the *widest* - it includes the widest range of values.\n",
        "\n",
        "Confidence intervals are a trade-off between accuracy and precision.\n",
        "\n",
        "**The more accurate you want to be, the less precise your CI will be.**\n",
        "\n",
        "**The less accurate you are willing to be, the more precise your estimate can be.**\n",
        "\n",
        "At the point we were 100% confident, our CI would probably be meaningless."
      ]
    },
    {
      "cell_type": "markdown",
      "metadata": {
        "id": "vE-I6Bw_Bx2J"
      },
      "source": [
        "### In terms of brownies:\n",
        "\n",
        "*   We are 90% confident the brownies will be done in 35 - 36 minutes.\n",
        "*   We are 95% confident the brownies will be done in 34 - 37 minutes.\n",
        "*   We are 99% confident the brownies will be done in 33 - 39 minutes.\n",
        "*   We are 100% confident the brownies will be done in 0 - 60 minutes.\n",
        "\n",
        "The 100% confidence interval is true... but not very helpful.\n"
      ]
    },
    {
      "cell_type": "markdown",
      "metadata": {
        "id": "EamZNJhAf-fY"
      },
      "source": [
        "#Common Errors with the Interpretation of Confidence Intervals.\n",
        "\n",
        "**Correct statement:** We are 95% confident that the population mean healthy human body temperature is between 98.10 and 98.23 degrees F.\n",
        "\n",
        "**Incorrect statement:** We are 95% confident that the sample mean healthy human body temperature is between 98.10 and 98.23 degrees F.\n",
        "\n",
        "*  We want to make statements about the population mean, not the sample mean.\n",
        "\n",
        "**Incorrect statement:** We are 95% confident that the sample mean healthy human body temperature is 98.17 degrees F.\n",
        "\n",
        "*  This statement is incorrect because we aren't providing a range of values.\n",
        "\n",
        "**Incorrect statement:** 95% of samples will have a mean that is between 98.10 and 98.23 degrees F.\n",
        "\n",
        "*   95% of samples will have a mean that contains the true population mean."
      ]
    },
    {
      "cell_type": "markdown",
      "metadata": {
        "id": "nrUWwhfCPDCI"
      },
      "source": [
        "## It can help to look at a picture\n",
        "\n",
        "We expect 95% of all 95% CIs to contain the true population mean.  \n",
        "\n",
        "That means, if we took 20 random samples from the same population, they'd all be different, but we'd expect 19/20 to contain the true population mean and only 1/20 not to contain the true population mean.\n",
        "\n",
        "![alt text](https://raw.githubusercontent.com/Chelsea-Myers/Lambda-Intro/master/CI%20image.png)\n"
      ]
    },
    {
      "cell_type": "markdown",
      "metadata": {
        "id": "r3DBJ809F64Q"
      },
      "source": [
        "# Degrees of freedom\n",
        "\n",
        "*Degrees of freedom are a way of capturing uncertainty in a model\n",
        "\n",
        "* They work a bit differently in t-tests (n - 1) vs. chi-square tests (rows - 1)*(col - 1) and will work a little differently when we get to regression next week.\n",
        "\n",
        "* [Here's a great tutorial on degrees of freedom](https://blog.minitab.com/blog/statistics-and-quality-data-analysis/what-are-degrees-of-freedom-in-statistics)."
      ]
    },
    {
      "cell_type": "markdown",
      "metadata": {
        "id": "9tIHBlM_SyGR"
      },
      "source": [
        "#The correspondence between confidence intervals and hypothesis tests.\n",
        "\n",
        "If you believe that a C% confidence interval contains the true population mean, and the mean under the null hypothesis does not appear in the confidence interval, you can reject Ho at the alpha (1 - .C) level.\n",
        "\n",
        "Note: This only works for two-sided confidence intervals paired with two-sided hypothesis tests (the only kind we are discussing in class).\n",
        "\n",
        "We are 95% confident that the population mean healthy human body temperature is between 98.10 and 98.23 degrees F.\n",
        "\n",
        "Therefore, we can conclude that we would reject the null hypothesis that the mean healthy human body temperature is 98.6 degrees F at the alpha = 0.05 level.\n"
      ]
    },
    {
      "cell_type": "markdown",
      "metadata": {
        "id": "7nQBLxuXJ2Y5"
      },
      "source": [
        "#Confidence intervals and sample size\n",
        "\n",
        "If we increased the sample size from 223 to 500 but the sample mean and SD remained the same, describe two ways the margin of error would change. Would the margin of error become smaller or larger?"
      ]
    },
    {
      "cell_type": "code",
      "metadata": {
        "id": "gGXOqDYiKFGq",
        "colab": {
          "base_uri": "https://localhost:8080/"
        },
        "outputId": "264830e6-7192-4032-8492-f0956a889ab8"
      },
      "source": [
        "from scipy.stats import t\n",
        "\n",
        "#Don't worry too much about where the 0.975 comes from.  It has to do\n",
        "#with wanting to determine the *middle* 95% of the t-distribution\n",
        "#We're going to learn\n",
        "#how to calculate a 95% CI this easy way in just a minute.\n",
        "t_star = t.ppf(0.975,df=500)\n",
        "\n",
        "n_body_temp = 500\n",
        "se_body_temp = sd_body_temp/(n_body_temp**(1/2))\n",
        "\n",
        "mean_body_temp + (t_star * se_body_temp)\n",
        "\n",
        "ME = t_star*se_body_temp\n",
        "print('ME =',ME)"
      ],
      "execution_count": null,
      "outputs": [
        {
          "output_type": "stream",
          "text": [
            "ME = 0.046331604578207945\n"
          ],
          "name": "stdout"
        }
      ]
    },
    {
      "cell_type": "markdown",
      "metadata": {
        "id": "zOpVW7-LKtLD"
      },
      "source": [
        "The margin of error becomes smaller.  You get a more precise estimate with the same level of confidence."
      ]
    },
    {
      "cell_type": "markdown",
      "metadata": {
        "id": "MitRyVfbF3oy"
      },
      "source": [
        "## Let's do one more quick example.\n",
        "\n",
        "Use the Titanic dataset to create a 95% confidence interval for the population mean age of all Western Europeans traveling the US in the early 1900s (assume the Titanic passengers are representative of this population)."
      ]
    },
    {
      "cell_type": "code",
      "metadata": {
        "id": "fp6Ws3j5G2n_",
        "colab": {
          "base_uri": "https://localhost:8080/",
          "height": 220
        },
        "outputId": "be79c2e1-6a55-4208-f085-9a7998d2cfeb"
      },
      "source": [
        "import pandas as pd\n",
        "import numpy as np\n",
        "\n",
        "data_url = 'https://raw.githubusercontent.com/pixeltests/datasets/main/titanic.csv'\n",
        "\n",
        "df = pd.read_csv(data_url, skipinitialspace=True, header=0)\n",
        "\n",
        "print(df.shape)\n",
        "df.head()"
      ],
      "execution_count": null,
      "outputs": [
        {
          "output_type": "stream",
          "text": [
            "(887, 8)\n"
          ],
          "name": "stdout"
        },
        {
          "output_type": "execute_result",
          "data": {
            "text/html": [
              "<div>\n",
              "<style scoped>\n",
              "    .dataframe tbody tr th:only-of-type {\n",
              "        vertical-align: middle;\n",
              "    }\n",
              "\n",
              "    .dataframe tbody tr th {\n",
              "        vertical-align: top;\n",
              "    }\n",
              "\n",
              "    .dataframe thead th {\n",
              "        text-align: right;\n",
              "    }\n",
              "</style>\n",
              "<table border=\"1\" class=\"dataframe\">\n",
              "  <thead>\n",
              "    <tr style=\"text-align: right;\">\n",
              "      <th></th>\n",
              "      <th>Survived</th>\n",
              "      <th>Pclass</th>\n",
              "      <th>Name</th>\n",
              "      <th>Sex</th>\n",
              "      <th>Age</th>\n",
              "      <th>Siblings/Spouses_Aboard</th>\n",
              "      <th>Parents/Children_Aboard</th>\n",
              "      <th>Fare</th>\n",
              "    </tr>\n",
              "  </thead>\n",
              "  <tbody>\n",
              "    <tr>\n",
              "      <th>0</th>\n",
              "      <td>0</td>\n",
              "      <td>3</td>\n",
              "      <td>Mr. Owen Harris Braund</td>\n",
              "      <td>male</td>\n",
              "      <td>22.0</td>\n",
              "      <td>1</td>\n",
              "      <td>0</td>\n",
              "      <td>7.2500</td>\n",
              "    </tr>\n",
              "    <tr>\n",
              "      <th>1</th>\n",
              "      <td>1</td>\n",
              "      <td>1</td>\n",
              "      <td>Mrs. John Bradley (Florence Briggs Thayer) Cum...</td>\n",
              "      <td>female</td>\n",
              "      <td>38.0</td>\n",
              "      <td>1</td>\n",
              "      <td>0</td>\n",
              "      <td>71.2833</td>\n",
              "    </tr>\n",
              "    <tr>\n",
              "      <th>2</th>\n",
              "      <td>1</td>\n",
              "      <td>3</td>\n",
              "      <td>Miss. Laina Heikkinen</td>\n",
              "      <td>female</td>\n",
              "      <td>26.0</td>\n",
              "      <td>0</td>\n",
              "      <td>0</td>\n",
              "      <td>7.9250</td>\n",
              "    </tr>\n",
              "    <tr>\n",
              "      <th>3</th>\n",
              "      <td>1</td>\n",
              "      <td>1</td>\n",
              "      <td>Mrs. Jacques Heath (Lily May Peel) Futrelle</td>\n",
              "      <td>female</td>\n",
              "      <td>35.0</td>\n",
              "      <td>1</td>\n",
              "      <td>0</td>\n",
              "      <td>53.1000</td>\n",
              "    </tr>\n",
              "    <tr>\n",
              "      <th>4</th>\n",
              "      <td>0</td>\n",
              "      <td>3</td>\n",
              "      <td>Mr. William Henry Allen</td>\n",
              "      <td>male</td>\n",
              "      <td>35.0</td>\n",
              "      <td>0</td>\n",
              "      <td>0</td>\n",
              "      <td>8.0500</td>\n",
              "    </tr>\n",
              "  </tbody>\n",
              "</table>\n",
              "</div>"
            ],
            "text/plain": [
              "   Survived  Pclass  ... Parents/Children_Aboard     Fare\n",
              "0         0       3  ...                       0   7.2500\n",
              "1         1       1  ...                       0  71.2833\n",
              "2         1       3  ...                       0   7.9250\n",
              "3         1       1  ...                       0  53.1000\n",
              "4         0       3  ...                       0   8.0500\n",
              "\n",
              "[5 rows x 8 columns]"
            ]
          },
          "metadata": {
            "tags": []
          },
          "execution_count": 71
        }
      ]
    },
    {
      "cell_type": "code",
      "metadata": {
        "id": "cNpzYbjpfirR",
        "colab": {
          "base_uri": "https://localhost:8080/",
          "height": 387
        },
        "outputId": "5e60a18f-4626-438f-e98f-e645874ede5e"
      },
      "source": [
        "import matplotlib.pyplot as plt\n",
        "import seaborn as sns\n",
        "\n",
        "# Resample data with smaller sample size\n",
        "\n",
        "ci = 0.95  # Confidence Interval\n",
        "\n",
        "m = df[df.Sex == 'male']\n",
        "f = df[df.Sex == 'female']\n",
        "sns.distplot(m['Age'], color='blue')\n",
        "sns.distplot(f['Age'], color='red')\n",
        "\n",
        "# Calculate sample / population estimate for males on the titanic\n",
        "m_mean = m['Age'].mean() # Sample Mean\n",
        "m_sem = m['Age'].sem() # Standard Error of the Mean\n",
        "m_df = len(m['Age']) - 1 # Degrees of Freedom\n",
        "m_LCI, m_UCI = t.interval(alpha = ci, df=m_df, loc=m_mean, scale=m_sem)\n",
        "\n",
        "# Calculate sample / population estimate for males on the titanic\n",
        "f_mean = f['Age'].mean() # Sample Mean\n",
        "f_sem = f['Age'].sem() # Standard Error of the Mean\n",
        "f_df = len(f['Age']) - 1 # Degrees of Freedom\n",
        "f_LCI, f_UCI = t.interval(alpha = ci, df=f_df, loc=f_mean, scale=f_sem)\n",
        "\n",
        "# Plot the sample statistics\n",
        "plt.axvline(m_LCI, color='blue')\n",
        "plt.axvline(m_UCI, color='blue')\n",
        "\n",
        "plt.axvline(f_LCI, color='red')\n",
        "plt.axvline(f_UCI, color='red')\n",
        "\n",
        "plt.legend();"
      ],
      "execution_count": null,
      "outputs": [
        {
          "output_type": "stream",
          "text": [
            "/usr/local/lib/python3.7/dist-packages/seaborn/distributions.py:2557: FutureWarning: `distplot` is a deprecated function and will be removed in a future version. Please adapt your code to use either `displot` (a figure-level function with similar flexibility) or `histplot` (an axes-level function for histograms).\n",
            "  warnings.warn(msg, FutureWarning)\n",
            "/usr/local/lib/python3.7/dist-packages/seaborn/distributions.py:2557: FutureWarning: `distplot` is a deprecated function and will be removed in a future version. Please adapt your code to use either `displot` (a figure-level function with similar flexibility) or `histplot` (an axes-level function for histograms).\n",
            "  warnings.warn(msg, FutureWarning)\n",
            "No handles with labels found to put in legend.\n"
          ],
          "name": "stderr"
        },
        {
          "output_type": "display_data",
          "data": {
            "image/png": "[encoded data removed]",
            "text/plain": [
              "<Figure size 432x288 with 1 Axes>"
            ]
          },
          "metadata": {
            "tags": [],
            "needs_background": "light"
          }
        }
      ]
    },
    {
      "cell_type": "code",
      "metadata": {
        "id": "iIpBrdXUIx2A",
        "colab": {
          "base_uri": "https://localhost:8080/"
        },
        "outputId": "89165f22-cff3-4b86-c69b-8392f1227778"
      },
      "source": [
        "# Performed a two-sample t-test on whether\n",
        "# There is a difference in age of men and women on the Titanic.\n",
        "\n",
        "from scipy.stats import ttest_ind\n",
        "\n",
        "tstat, pval = ttest_ind(m['Age'], f['Age'], equal_var=True)\n",
        "significance_threshold = 1 - ci # confidendence level (alpha)\n",
        "if pval < 1 - ci:\n",
        "  print ('This is statistically significant. We reject the null hypothesis.')\n",
        "  print (pval, '<', significance_threshold)\n",
        "else:\n",
        "  print ('This is not statistically significant. We fail to reject the null hypothesis.')\n",
        "  print (pval, '>', significance_threshold)\n"
      ],
      "execution_count": null,
      "outputs": [
        {
          "output_type": "stream",
          "text": [
            "This is statistically significant. We reject the null hypothesis.\n",
            "0.006177429581824169 < 0.050000000000000044\n"
          ],
          "name": "stdout"
        }
      ]
    },
    {
      "cell_type": "markdown",
      "metadata": {
        "id": "VPejVZDsF84m"
      },
      "source": [
        "CI interval interpretation here."
      ]
    },
    {
      "cell_type": "markdown",
      "metadata": {
        "id": "PphVIEWILUu9"
      },
      "source": [
        "#Bonus: Statistical Power and Error"
      ]
    },
    {
      "cell_type": "markdown",
      "metadata": {
        "id": "cUXrpeCzLY_1"
      },
      "source": [
        "95% confidence... 0.05 significance level... this is making me think there's a chance we could make the wrong decision with our hypothesis test...\n"
      ]
    },
    {
      "cell_type": "markdown",
      "metadata": {
        "id": "dcCrdSJUMh75"
      },
      "source": [
        "###Yep."
      ]
    },
    {
      "cell_type": "markdown",
      "metadata": {
        "id": "_eA47o8fMjxA"
      },
      "source": [
        "There are four things that can happen when we conduct a hypothesis test:"
      ]
    },
    {
      "cell_type": "markdown",
      "metadata": {
        "id": "X-khWVdkNlit"
      },
      "source": [
        "\n",
        "|          |                   |     Truth    |              |   |\n",
        "|:--------:|:-----------------:|:------------:|--------------|---|\n",
        "|          |                   |  Ho is true  |  Ha is true  |   |\n",
        "| Decision |     Reject Ho     | Type I error | Correct :)   |   |\n",
        "|          | Fail to reject Ho |  Correct :)  | Type II error|   |\n",
        "\n",
        "\n",
        "Smoke detector does not go off: accepting our null hypothesis (there IS an effect, but our statistical test does not detect it). Type II error.\n",
        "\n",
        "If we better buy a better smoke detector, which is less likely to inappropriately accept the null hypothesis has MORE statistical power."
      ]
    },
    {
      "cell_type": "markdown",
      "metadata": {
        "id": "NteNgontOTDo"
      },
      "source": [
        "A type I error occurs when you reject the null hypothesis but it is really true.  The chance of making a type 1 error = significance level (threshold below which a p value is considered significant)\n",
        "\n",
        "Sample mean = 98.17 (has an outlier that makes the mean much smaller than it should be)\n",
        "Reference value = 98.6\n",
        "\n",
        "We reject the null hypothesis, but in fact the null hypothesis is true. Type I error."
      ]
    },
    {
      "cell_type": "markdown",
      "metadata": {
        "id": "ipD7s3vfOvDy"
      },
      "source": [
        "A type II error occurs when you fail to reject the null hypothesis when the alternative hypothesis is really true.  This is hard to calculate because it relies on a lot of assumptions about what's really going on if the alternative hypothesis is really true.\n",
        "\n",
        "Sample mean = 98.5 (based upon random sample of 5, we draw many values close to the reference value)\n",
        "\n",
        "Reference value = 98.6\n",
        "\n",
        "We accept the null hypothesis, when we should in fact accept the alternative hypothesis. Type II error: false negative. This means we have low statistical power."
      ]
    },
    {
      "cell_type": "markdown",
      "metadata": {
        "id": "zOBWUkljPFUf"
      },
      "source": [
        "When we suspect we are making a type 2 error, we say we are ____________ to\n",
        "\n",
        "\n",
        "reject the null hypothesis."
      ]
    },
    {
      "cell_type": "markdown",
      "metadata": {
        "id": "vB6liyh6PZdM"
      },
      "source": [
        "Statistical power is the ability to reject the null hypothesis when it is false. (The ability to detect a statistically significant difference when in truth there is an actual difference).\n",
        "\n",
        "If you have a p > 0.05:\n",
        "* There was no statistically significant difference.\n",
        "* There may be a difference, but this study was not powered sufficiently to detect the difference; in other words, there was a low sample size.\n"
      ]
    },
    {
      "cell_type": "markdown",
      "metadata": {
        "id": "21rbBHd-PmIw"
      },
      "source": [
        "There are several factors that influence statistical power:"
      ]
    },
    {
      "cell_type": "markdown",
      "metadata": {
        "id": "DSZyA_gkPosY"
      },
      "source": [
        "1. Sample size.  Larger sample size = more statistical power\n",
        "2. Alpha level.  Larger alpha (higher threshold) level = more statistical power\n",
        "3. Effect size.  Larger the effect size = more statistical power"
      ]
    },
    {
      "cell_type": "markdown",
      "metadata": {
        "id": "PNeKv3cSz1tF"
      },
      "source": [
        "#Bonus: P-hacking\n",
        "\n",
        "aka - the problem of of multiple comparisons\n",
        "\n",
        "P-hacking is the practice of doing a bunch of hypothesis tests or creating a bunch of confidence intervals until you find one that is statistically significant.\n",
        "\n",
        "The problem is that - just by chance - we expect to reject the null hypothesis incorrectly about 5% of the time.  \n",
        "\n",
        "eg: If you do 100 hypothesis tests, you can expect 5 to be statistically significant just by chance.\n",
        "\n",
        "Always lay out your hypotheses before you start working with your data and - if you want to make multiple comparisons - make sure to adjust for that with your significance level.\n",
        "\n",
        "[Bonferroni correction](https://en.wikipedia.org/wiki/Bonferroni_correction)\n",
        "\n",
        "Whew!"
      ]
    },
    {
      "cell_type": "code",
      "metadata": {
        "id": "9wtujMPc3f6w"
      },
      "source": [],
      "execution_count": null,
      "outputs": []
    }
  ]
}