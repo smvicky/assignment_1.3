{
  "nbformat": 4,
  "nbformat_minor": 0,
  "metadata": {
    "colab": {
      "provenance": [],
      "include_colab_link": true
    },
    "kernelspec": {
      "display_name": "Python 3",
      "language": "python",
      "name": "python3"
    },
    "language_info": {
      "codemirror_mode": {
        "name": "ipython",
        "version": 3
      },
      "file_extension": ".py",
      "mimetype": "text/x-python",
      "name": "python",
      "nbconvert_exporter": "python",
      "pygments_lexer": "ipython3",
      "version": "3.7.4"
    }
  },
  "cells": [
    {
      "cell_type": "markdown",
      "metadata": {
        "id": "view-in-github",
        "colab_type": "text"
      },
      "source": [
        "<a href=\"https://colab.research.google.com/github/smvicky/assignment_1.3/blob/module2.4/PT_DS_Bayesian_Inference_Assignment.ipynb\" target=\"_parent\"><img src=\"https://colab.research.google.com/assets/colab-badge.svg\" alt=\"Open In Colab\"/></a>"
      ]
    },
    {
      "cell_type": "markdown",
      "metadata": {
        "id": "wfYmYngwIWHV"
      },
      "source": [
        "## Autograded Notebook (Canvas & CodeGrade)\n",
        "\n",
        "This notebook will be automatically graded. It is designed to test your answers and award points for the correct answers. Following the instructions for each Task carefully.\n",
        "\n",
        "### Instructions\n",
        "\n",
        "* **Download this notebook** as you would any other ipynb file\n",
        "* **Upload** to Google Colab or work locally (if you have that set-up)\n",
        "* **Delete `raise NotImplementedError()`**\n",
        "* Write your code in the `# YOUR CODE HERE` space\n",
        "* **Execute** the Test cells that contain `assert` statements - these help you check your work (others contain hidden tests that will be checked when you submit through Canvas)\n",
        "* **Save** your notebook when you are finished\n",
        "* **Download** as a `ipynb` file (if working in Colab)\n",
        "* **Upload** your complete notebook to Canvas (there will be additional instructions in Slack and/or Canvas)"
      ]
    },
    {
      "cell_type": "markdown",
      "metadata": {
        "id": "H7OLbevlbd_Z"
      },
      "source": [
        "# Pixeltests School Data Science - Unit 1 Sprint 2 Module 4\n",
        "\n",
        "## Module Project: Introduction to Bayesian Inference\n",
        "\n",
        "\n",
        "\n",
        "#### Total notebook points: 12"
      ]
    },
    {
      "cell_type": "markdown",
      "metadata": {
        "id": "qYfsB9myfV0l"
      },
      "source": [
        "## Introduction\n",
        "\n",
        "In this project, we're going to practice calculating conditional probabilities. You will use Python and the pandas cross tabulation method to look at various survival scenarios. After you complete the Titanic calculations, we'll visit the Harry Potter Universe and apply what we learned to the Sorting Hat situation at Hogwarts (a detailed description of the problem is provided - you don't need to have any familiarity with the Harry Potter books or movies).\n",
        "\n",
        "### Data set\n",
        "\n",
        "We'll be working with the Titanic dataset for this Module Project. It is available in various locations but the data at the URL provided is what we'll use today."
      ]
    },
    {
      "cell_type": "markdown",
      "metadata": {
        "id": "iliKwAvIKbyD"
      },
      "source": [
        "### Warmup Question\n",
        "\n",
        "In your own words, summarize the difference between Bayesian and Frequentist statistics.\n",
        "\n",
        "ANSWER: Bayesian tells more realistic conclusion than Frequentist\n"
      ]
    },
    {
      "cell_type": "markdown",
      "metadata": {
        "id": "db4m0HhBCMhR"
      },
      "source": [
        "## Part A\n",
        "\n",
        "### Conditional Probabilities\n",
        "\n",
        "For Tasks 1 - 8 use the following information:\n",
        "\n",
        "Let **A** be the event of surviving the sinking of the Titanic and **B** be the event of being a 1st class passenger."
      ]
    },
    {
      "cell_type": "markdown",
      "metadata": {
        "id": "bvFf3ycYfV0m"
      },
      "source": [
        "**Task 1** - Load the data\n",
        "\n",
        "As we usually begin, let's load the data! The URL has been provided.\n",
        "\n",
        "* load your CSV file into a DataFrame named `df`"
      ]
    },
    {
      "cell_type": "code",
      "metadata": {
        "deletable": false,
        "id": "qXaf5leo7CHr",
        "nbgrader": {
          "cell_type": "code",
          "checksum": "03a6b6486122907200ef39a158aba4fc",
          "grade": false,
          "grade_id": "cell-282a5c44db0c5259",
          "locked": false,
          "schema_version": 3,
          "solution": true,
          "task": false
        },
        "colab": {
          "base_uri": "https://localhost:8080/",
          "height": 206
        },
        "outputId": "35665a90-6db7-45d3-970f-ec9e5cd23596"
      },
      "source": [
        "# Task 1\n",
        "\n",
        "import pandas as pd\n",
        "import numpy as np\n",
        "\n",
        "data_url = 'https://raw.githubusercontent.com/pixeltests/datasets/main/titanic.csv'\n",
        "# YOUR CODE HERE\n",
        "#raise NotImplementedError()\n",
        "df = pd.read_csv(data_url, skipinitialspace=True, header=0)\n",
        "\n",
        "# View the DataFrame\n",
        "df.head()"
      ],
      "execution_count": 38,
      "outputs": [
        {
          "output_type": "execute_result",
          "data": {
            "text/plain": [
              "   Survived  Pclass                                               Name  \\\n",
              "0         0       3                             Mr. Owen Harris Braund   \n",
              "1         1       1  Mrs. John Bradley (Florence Briggs Thayer) Cum...   \n",
              "2         1       3                              Miss. Laina Heikkinen   \n",
              "3         1       1        Mrs. Jacques Heath (Lily May Peel) Futrelle   \n",
              "4         0       3                            Mr. William Henry Allen   \n",
              "\n",
              "      Sex   Age  Siblings/Spouses_Aboard  Parents/Children_Aboard     Fare  \n",
              "0    male  22.0                        1                        0   7.2500  \n",
              "1  female  38.0                        1                        0  71.2833  \n",
              "2  female  26.0                        0                        0   7.9250  \n",
              "3  female  35.0                        1                        0  53.1000  \n",
              "4    male  35.0                        0                        0   8.0500  "
            ],
            "text/html": [
              "\n",
              "\n",
              "  <div id=\"df-b46629cf-7336-4100-be10-088d09af2efa\">\n",
              "    <div class=\"colab-df-container\">\n",
              "      <div>\n",
              "<style scoped>\n",
              "    .dataframe tbody tr th:only-of-type {\n",
              "        vertical-align: middle;\n",
              "    }\n",
              "\n",
              "    .dataframe tbody tr th {\n",
              "        vertical-align: top;\n",
              "    }\n",
              "\n",
              "    .dataframe thead th {\n",
              "        text-align: right;\n",
              "    }\n",
              "</style>\n",
              "<table border=\"1\" class=\"dataframe\">\n",
              "  <thead>\n",
              "    <tr style=\"text-align: right;\">\n",
              "      <th></th>\n",
              "      <th>Survived</th>\n",
              "      <th>Pclass</th>\n",
              "      <th>Name</th>\n",
              "      <th>Sex</th>\n",
              "      <th>Age</th>\n",
              "      <th>Siblings/Spouses_Aboard</th>\n",
              "      <th>Parents/Children_Aboard</th>\n",
              "      <th>Fare</th>\n",
              "    </tr>\n",
              "  </thead>\n",
              "  <tbody>\n",
              "    <tr>\n",
              "      <th>0</th>\n",
              "      <td>0</td>\n",
              "      <td>3</td>\n",
              "      <td>Mr. Owen Harris Braund</td>\n",
              "      <td>male</td>\n",
              "      <td>22.0</td>\n",
              "      <td>1</td>\n",
              "      <td>0</td>\n",
              "      <td>7.2500</td>\n",
              "    </tr>\n",
              "    <tr>\n",
              "      <th>1</th>\n",
              "      <td>1</td>\n",
              "      <td>1</td>\n",
              "      <td>Mrs. John Bradley (Florence Briggs Thayer) Cum...</td>\n",
              "      <td>female</td>\n",
              "      <td>38.0</td>\n",
              "      <td>1</td>\n",
              "      <td>0</td>\n",
              "      <td>71.2833</td>\n",
              "    </tr>\n",
              "    <tr>\n",
              "      <th>2</th>\n",
              "      <td>1</td>\n",
              "      <td>3</td>\n",
              "      <td>Miss. Laina Heikkinen</td>\n",
              "      <td>female</td>\n",
              "      <td>26.0</td>\n",
              "      <td>0</td>\n",
              "      <td>0</td>\n",
              "      <td>7.9250</td>\n",
              "    </tr>\n",
              "    <tr>\n",
              "      <th>3</th>\n",
              "      <td>1</td>\n",
              "      <td>1</td>\n",
              "      <td>Mrs. Jacques Heath (Lily May Peel) Futrelle</td>\n",
              "      <td>female</td>\n",
              "      <td>35.0</td>\n",
              "      <td>1</td>\n",
              "      <td>0</td>\n",
              "      <td>53.1000</td>\n",
              "    </tr>\n",
              "    <tr>\n",
              "      <th>4</th>\n",
              "      <td>0</td>\n",
              "      <td>3</td>\n",
              "      <td>Mr. William Henry Allen</td>\n",
              "      <td>male</td>\n",
              "      <td>35.0</td>\n",
              "      <td>0</td>\n",
              "      <td>0</td>\n",
              "      <td>8.0500</td>\n",
              "    </tr>\n",
              "  </tbody>\n",
              "</table>\n",
              "</div>\n",
              "      <button class=\"colab-df-convert\" onclick=\"convertToInteractive('df-b46629cf-7336-4100-be10-088d09af2efa')\"\n",
              "              title=\"Convert this dataframe to an interactive table.\"\n",
              "              style=\"display:none;\">\n",
              "\n",
              "  <svg xmlns=\"http://www.w3.org/2000/svg\" height=\"24px\"viewBox=\"0 0 24 24\"\n",
              "       width=\"24px\">\n",
              "    <path d=\"M0 0h24v24H0V0z\" fill=\"none\"/>\n",
              "    <path d=\"M18.56 5.44l.94 2.06.94-2.06 2.06-.94-2.06-.94-.94-2.06-.94 2.06-2.06.94zm-11 1L8.5 8.5l.94-2.06 2.06-.94-2.06-.94L8.5 2.5l-.94 2.06-2.06.94zm10 10l.94 2.06.94-2.06 2.06-.94-2.06-.94-.94-2.06-.94 2.06-2.06.94z\"/><path d=\"M17.41 7.96l-1.37-1.37c-.4-.4-.92-.59-1.43-.59-.52 0-1.04.2-1.43.59L10.3 9.45l-7.72 7.72c-.78.78-.78 2.05 0 2.83L4 21.41c.39.39.9.59 1.41.59.51 0 1.02-.2 1.41-.59l7.78-7.78 2.81-2.81c.8-.78.8-2.07 0-2.86zM5.41 20L4 18.59l7.72-7.72 1.47 1.35L5.41 20z\"/>\n",
              "  </svg>\n",
              "      </button>\n",
              "\n",
              "\n",
              "\n",
              "    <div id=\"df-d8f2a129-c4a1-4809-a925-3e40802f7f9a\">\n",
              "      <button class=\"colab-df-quickchart\" onclick=\"quickchart('df-d8f2a129-c4a1-4809-a925-3e40802f7f9a')\"\n",
              "              title=\"Suggest charts.\"\n",
              "              style=\"display:none;\">\n",
              "\n",
              "<svg xmlns=\"http://www.w3.org/2000/svg\" height=\"24px\"viewBox=\"0 0 24 24\"\n",
              "     width=\"24px\">\n",
              "    <g>\n",
              "        <path d=\"M19 3H5c-1.1 0-2 .9-2 2v14c0 1.1.9 2 2 2h14c1.1 0 2-.9 2-2V5c0-1.1-.9-2-2-2zM9 17H7v-7h2v7zm4 0h-2V7h2v10zm4 0h-2v-4h2v4z\"/>\n",
              "    </g>\n",
              "</svg>\n",
              "      </button>\n",
              "    </div>\n",
              "\n",
              "<style>\n",
              "  .colab-df-quickchart {\n",
              "    background-color: #E8F0FE;\n",
              "    border: none;\n",
              "    border-radius: 50%;\n",
              "    cursor: pointer;\n",
              "    display: none;\n",
              "    fill: #1967D2;\n",
              "    height: 32px;\n",
              "    padding: 0 0 0 0;\n",
              "    width: 32px;\n",
              "  }\n",
              "\n",
              "  .colab-df-quickchart:hover {\n",
              "    background-color: #E2EBFA;\n",
              "    box-shadow: 0px 1px 2px rgba(60, 64, 67, 0.3), 0px 1px 3px 1px rgba(60, 64, 67, 0.15);\n",
              "    fill: #174EA6;\n",
              "  }\n",
              "\n",
              "  [theme=dark] .colab-df-quickchart {\n",
              "    background-color: #3B4455;\n",
              "    fill: #D2E3FC;\n",
              "  }\n",
              "\n",
              "  [theme=dark] .colab-df-quickchart:hover {\n",
              "    background-color: #434B5C;\n",
              "    box-shadow: 0px 1px 3px 1px rgba(0, 0, 0, 0.15);\n",
              "    filter: drop-shadow(0px 1px 2px rgba(0, 0, 0, 0.3));\n",
              "    fill: #FFFFFF;\n",
              "  }\n",
              "</style>\n",
              "\n",
              "    <script>\n",
              "      async function quickchart(key) {\n",
              "        const containerElement = document.querySelector('#' + key);\n",
              "        const charts = await google.colab.kernel.invokeFunction(\n",
              "            'suggestCharts', [key], {});\n",
              "      }\n",
              "    </script>\n",
              "\n",
              "      <script>\n",
              "\n",
              "function displayQuickchartButton(domScope) {\n",
              "  let quickchartButtonEl =\n",
              "    domScope.querySelector('#df-d8f2a129-c4a1-4809-a925-3e40802f7f9a button.colab-df-quickchart');\n",
              "  quickchartButtonEl.style.display =\n",
              "    google.colab.kernel.accessAllowed ? 'block' : 'none';\n",
              "}\n",
              "\n",
              "        displayQuickchartButton(document);\n",
              "      </script>\n",
              "      <style>\n",
              "    .colab-df-container {\n",
              "      display:flex;\n",
              "      flex-wrap:wrap;\n",
              "      gap: 12px;\n",
              "    }\n",
              "\n",
              "    .colab-df-convert {\n",
              "      background-color: #E8F0FE;\n",
              "      border: none;\n",
              "      border-radius: 50%;\n",
              "      cursor: pointer;\n",
              "      display: none;\n",
              "      fill: #1967D2;\n",
              "      height: 32px;\n",
              "      padding: 0 0 0 0;\n",
              "      width: 32px;\n",
              "    }\n",
              "\n",
              "    .colab-df-convert:hover {\n",
              "      background-color: #E2EBFA;\n",
              "      box-shadow: 0px 1px 2px rgba(60, 64, 67, 0.3), 0px 1px 3px 1px rgba(60, 64, 67, 0.15);\n",
              "      fill: #174EA6;\n",
              "    }\n",
              "\n",
              "    [theme=dark] .colab-df-convert {\n",
              "      background-color: #3B4455;\n",
              "      fill: #D2E3FC;\n",
              "    }\n",
              "\n",
              "    [theme=dark] .colab-df-convert:hover {\n",
              "      background-color: #434B5C;\n",
              "      box-shadow: 0px 1px 3px 1px rgba(0, 0, 0, 0.15);\n",
              "      filter: drop-shadow(0px 1px 2px rgba(0, 0, 0, 0.3));\n",
              "      fill: #FFFFFF;\n",
              "    }\n",
              "  </style>\n",
              "\n",
              "      <script>\n",
              "        const buttonEl =\n",
              "          document.querySelector('#df-b46629cf-7336-4100-be10-088d09af2efa button.colab-df-convert');\n",
              "        buttonEl.style.display =\n",
              "          google.colab.kernel.accessAllowed ? 'block' : 'none';\n",
              "\n",
              "        async function convertToInteractive(key) {\n",
              "          const element = document.querySelector('#df-b46629cf-7336-4100-be10-088d09af2efa');\n",
              "          const dataTable =\n",
              "            await google.colab.kernel.invokeFunction('convertToInteractive',\n",
              "                                                     [key], {});\n",
              "          if (!dataTable) return;\n",
              "\n",
              "          const docLinkHtml = 'Like what you see? Visit the ' +\n",
              "            '<a target=\"_blank\" href=https://colab.research.google.com/notebooks/data_table.ipynb>data table notebook</a>'\n",
              "            + ' to learn more about interactive tables.';\n",
              "          element.innerHTML = '';\n",
              "          dataTable['output_type'] = 'display_data';\n",
              "          await google.colab.output.renderOutput(dataTable, element);\n",
              "          const docLink = document.createElement('div');\n",
              "          docLink.innerHTML = docLinkHtml;\n",
              "          element.appendChild(docLink);\n",
              "        }\n",
              "      </script>\n",
              "    </div>\n",
              "  </div>\n"
            ]
          },
          "metadata": {},
          "execution_count": 38
        }
      ]
    },
    {
      "cell_type": "markdown",
      "metadata": {
        "id": "vNlDUCUdfV0o"
      },
      "source": [
        "**Task 1 - Test**"
      ]
    },
    {
      "cell_type": "code",
      "metadata": {
        "deletable": false,
        "editable": false,
        "id": "KS4QNZcIfV0o",
        "nbgrader": {
          "cell_type": "code",
          "checksum": "9d5903bf9f6e73bffaeb7880b33d0a38",
          "grade": true,
          "grade_id": "cell-dfb792f5ef91f211",
          "locked": true,
          "points": 1,
          "schema_version": 3,
          "solution": false,
          "task": false
        }
      },
      "source": [
        "# Task 1 - Test\n",
        "\n",
        "assert isinstance(df, pd.DataFrame), 'Have you created a DataFrame named `df`?'\n",
        "assert len(df) == 887\n"
      ],
      "execution_count": 39,
      "outputs": []
    },
    {
      "cell_type": "markdown",
      "metadata": {
        "deletable": false,
        "editable": false,
        "id": "4shP8MH8CbrZ",
        "nbgrader": {
          "cell_type": "markdown",
          "checksum": "b54a79dc51bd50ced7d03bb1370aa9d3",
          "grade": false,
          "grade_id": "cell-82dac32bcc1fa69b",
          "locked": true,
          "schema_version": 3,
          "solution": false,
          "task": false
        }
      },
      "source": [
        "**Task 2** - Survival probability\n",
        "\n",
        "We'll start by calculating the probability of surviving; we'll write the probability as P(A)\n",
        "\n",
        "* calculate the cross tabulation for the `Pclass` and `Survived` variables and assign it to `cross_tab`.  Make sure to include the table margins.\n",
        "* using the cross tabulation results, calculate P(A) and assign it to the variable `p_a`\n",
        "\n",
        "*Hint: we write the probability of an event using a decimal, not a percent.*"
      ]
    },
    {
      "cell_type": "code",
      "metadata": {
        "deletable": false,
        "id": "iDi0eFr1x-v_",
        "nbgrader": {
          "cell_type": "code",
          "checksum": "fc9b374ec61db6b520f49f75393fb99e",
          "grade": false,
          "grade_id": "cell-800eb0784f0daf9f",
          "locked": false,
          "schema_version": 3,
          "solution": true,
          "task": false
        },
        "outputId": "64f496c0-24fd-4d3f-968e-3eeb67b87dd8",
        "colab": {
          "base_uri": "https://localhost:8080/"
        }
      },
      "source": [
        "# Task 2\n",
        "\n",
        "# YOUR CODE HERE\n",
        "cross_tab = pd.crosstab(index=df['Pclass'],columns= df['Survived'], margins=True)\n",
        "p_a = cross_tab[1]['All']/cross_tab['All']['All']\n",
        "print('The value of P(A) is:', p_a)"
      ],
      "execution_count": 40,
      "outputs": [
        {
          "output_type": "stream",
          "name": "stdout",
          "text": [
            "The value of P(A) is: 0.3855693348365276\n"
          ]
        }
      ]
    },
    {
      "cell_type": "markdown",
      "metadata": {
        "id": "gh2JCwr7fV0p"
      },
      "source": [
        "**Task 2 - Test**"
      ]
    },
    {
      "cell_type": "code",
      "metadata": {
        "deletable": false,
        "editable": false,
        "id": "7rqNlPJPfV0p",
        "nbgrader": {
          "cell_type": "code",
          "checksum": "7297dc09e6f8fa72c0a40e87ed2a3148",
          "grade": true,
          "grade_id": "cell-c4fbdfeb780e3bd6",
          "locked": true,
          "points": 1,
          "schema_version": 3,
          "solution": false,
          "task": false
        }
      },
      "source": [
        "# Task 2 - Test\n",
        "assert isinstance(cross_tab, pd.DataFrame), 'Did you create the cross tabulation DataFrame?'\n",
        "assert cross_tab.shape == (4,3), 'Did you remember to include the margins?'\n"
      ],
      "execution_count": 41,
      "outputs": []
    },
    {
      "cell_type": "markdown",
      "metadata": {
        "id": "ZV_UsohfC6r_"
      },
      "source": [
        "**Task 3** - First class probability\n",
        "\n",
        "Next we'll calculate the probability of being a First Class passenger; we'll write this probability as P(B)\n",
        "\n",
        "* using the cross tabulation results, calculate P(B) and assign it to the variable `p_b`\n",
        "\n",
        "*Hint: we write the probability of an event using a decimal, not a percent.*"
      ]
    },
    {
      "cell_type": "code",
      "metadata": {
        "deletable": false,
        "id": "5XUHyDlNfV0q",
        "nbgrader": {
          "cell_type": "code",
          "checksum": "a02d6adcf891f01d5c1235e3d84a7ab9",
          "grade": false,
          "grade_id": "cell-f4bd227006d12bc1",
          "locked": false,
          "schema_version": 3,
          "solution": true,
          "task": false
        },
        "outputId": "889ba09d-1073-4369-fa11-7379903c735f",
        "colab": {
          "base_uri": "https://localhost:8080/"
        }
      },
      "source": [
        "# Task 3\n",
        "\n",
        "# YOUR CODE HERE\n",
        "\n",
        "p_b = cross_tab['All'][1]/cross_tab['All']['All']\n",
        "print('The value of P(B) is:', p_b)\n"
      ],
      "execution_count": 42,
      "outputs": [
        {
          "output_type": "stream",
          "name": "stdout",
          "text": [
            "The value of P(B) is: 0.24351747463359638\n"
          ]
        }
      ]
    },
    {
      "cell_type": "markdown",
      "metadata": {
        "id": "Ac4ddTPHfV0q"
      },
      "source": [
        "**Task 3 - Test**"
      ]
    },
    {
      "cell_type": "code",
      "metadata": {
        "deletable": false,
        "editable": false,
        "id": "ZLoKRMkjEs2D",
        "nbgrader": {
          "cell_type": "code",
          "checksum": "13ae4dd0e58da917a8281772cce84af4",
          "grade": true,
          "grade_id": "cell-28b49f01a6955c2f",
          "locked": true,
          "points": 1,
          "schema_version": 3,
          "solution": false,
          "task": false
        }
      },
      "source": [
        "# Task 3 - Test\n",
        "# Hidden tests - you will see the results when you submit to Canvas"
      ],
      "execution_count": 43,
      "outputs": []
    },
    {
      "cell_type": "markdown",
      "metadata": {
        "id": "3tJKQmH-Cm6u"
      },
      "source": [
        "**Task 4** - Conditional probability: A and B\n",
        "\n",
        "Now, we'll calculate the conditional probability of being a First Class passenger **and** surviving. We write this as P(A $\\cap$ B) and we read it as \"the probability of A and B\".\n",
        "\n",
        "* calculate the conditional probability P(A $\\cap$ B) and assign it to the variable `p_a_and_b`\n",
        "\n",
        "*Hint: we write the probability of an event using a decimal, not a percent.*"
      ]
    },
    {
      "cell_type": "code",
      "metadata": {
        "deletable": false,
        "id": "_XREg3idfV0t",
        "nbgrader": {
          "cell_type": "code",
          "checksum": "60dc8857f800ac99fea24ec5119db95c",
          "grade": false,
          "grade_id": "cell-c124ed27b905efad",
          "locked": false,
          "schema_version": 3,
          "solution": true,
          "task": false
        },
        "outputId": "5d895be8-eece-4cc4-abb4-8b1fb8a2fd9d",
        "colab": {
          "base_uri": "https://localhost:8080/"
        }
      },
      "source": [
        "# Task 4\n",
        "\n",
        "# YOUR CODE HERE\n",
        "# cross_tab\n",
        "p_a_and_b = cross_tab[1][1]/cross_tab['All']['All']\n",
        "print('The value of P(A and B) is:', p_a_and_b)"
      ],
      "execution_count": 44,
      "outputs": [
        {
          "output_type": "stream",
          "name": "stdout",
          "text": [
            "The value of P(A and B) is: 0.15332581736189402\n"
          ]
        }
      ]
    },
    {
      "cell_type": "markdown",
      "metadata": {
        "id": "X5QTHXb7fV0t"
      },
      "source": [
        "**Task 4 - Test**"
      ]
    },
    {
      "cell_type": "code",
      "metadata": {
        "deletable": false,
        "editable": false,
        "id": "ie2WmfDlfV0t",
        "nbgrader": {
          "cell_type": "code",
          "checksum": "3de2a100e4af19c0c1bf9e8daaf97f39",
          "grade": true,
          "grade_id": "cell-94f5711349cc6887",
          "locked": true,
          "points": 1,
          "schema_version": 3,
          "solution": false,
          "task": false
        }
      },
      "source": [
        "# Task 4 - Test\n",
        "# Hidden tests - you will see the results when you submit to Canvas"
      ],
      "execution_count": 45,
      "outputs": []
    },
    {
      "cell_type": "markdown",
      "metadata": {
        "id": "MDdOtbnlfV0t"
      },
      "source": [
        "**Task 5** - Conditional probability: A given B\n",
        "\n",
        "Next, we'll calculate the conditional probability of surviving given the person was a First Class passenger. We write this as P(A|B) and we read it as \"the probability of A given B\".\n",
        "\n",
        "* generate a new cross tabulation with the parameter `normalize='index'`; name this table `cross_tab_norm`\n",
        "* calculate the conditional probability P(A|B) and assign it to the variable `p_a_given_b`\n",
        "\n",
        "*Hint: we write the probability of an event using a decimal, not a percent.*"
      ]
    },
    {
      "cell_type": "code",
      "metadata": {
        "deletable": false,
        "id": "VzHakDD6DOcL",
        "nbgrader": {
          "cell_type": "code",
          "checksum": "d01643c7433d3317f3696af59d4537ab",
          "grade": false,
          "grade_id": "cell-7b16a6ecf032b8ba",
          "locked": false,
          "schema_version": 3,
          "solution": true,
          "task": false
        },
        "outputId": "552e60f8-1fc4-495e-d367-d5baa4b40438",
        "colab": {
          "base_uri": "https://localhost:8080/"
        }
      },
      "source": [
        "# Task 5\n",
        "\n",
        "# YOUR CODE HERE\n",
        "cross_tab_norm = pd.crosstab(index=df['Pclass'],columns= df['Survived'], normalize=\"index\")\n",
        "p_a_given_b =  cross_tab_norm[1][1]\n",
        "print('The value of P(A given B) is:', p_a_given_b)"
      ],
      "execution_count": 52,
      "outputs": [
        {
          "output_type": "stream",
          "name": "stdout",
          "text": [
            "The value of P(A given B) is: 0.6296296296296297\n"
          ]
        }
      ]
    },
    {
      "cell_type": "markdown",
      "metadata": {
        "deletable": false,
        "editable": false,
        "id": "HVmkR9SXfV0u",
        "nbgrader": {
          "cell_type": "markdown",
          "checksum": "bf34b470e7835f50b0d6f52e6ac60730",
          "grade": false,
          "grade_id": "cell-5d1717dbbd5adc5a",
          "locked": true,
          "schema_version": 3,
          "solution": false,
          "task": false
        }
      },
      "source": [
        "**Task 5 - Test**"
      ]
    },
    {
      "cell_type": "code",
      "metadata": {
        "deletable": false,
        "editable": false,
        "id": "IgphlpCOFMDe",
        "nbgrader": {
          "cell_type": "code",
          "checksum": "8501c6490ac3e0cbd7399be2c56c24c0",
          "grade": true,
          "grade_id": "cell-e873df7d0460dbc5",
          "locked": true,
          "points": 1,
          "schema_version": 3,
          "solution": false,
          "task": false
        }
      },
      "source": [
        "# Task 5 - Test\n",
        "assert isinstance(cross_tab_norm, pd.DataFrame), 'Did you create the new cross tabulation DataFrame?'"
      ],
      "execution_count": 54,
      "outputs": []
    },
    {
      "cell_type": "markdown",
      "metadata": {
        "id": "PheF3oSXfV0u"
      },
      "source": [
        "**Task 6** - Conditional probability: B given A\n",
        "\n",
        "Okay, now we'll calculate the conditional probability of being a First Class passenger given the person survived. We write this as P(B|A) and we read it as \"the probability of B given A\".\n",
        "\n",
        "* create a new cross tabulation DataFrame and name it `cross_tab_norm2`.\n",
        "    * *Hint: You may find it helpful to reverse the order of the columns when you calculate the new table*\n",
        "* calculate the conditional probability P(B|A) and assign it to the variable `p_b_given_a`"
      ]
    },
    {
      "cell_type": "code",
      "metadata": {
        "deletable": false,
        "id": "6I2m6yBFfV0u",
        "nbgrader": {
          "cell_type": "code",
          "checksum": "f3ed692f36fb25987efec83bd7cfffab",
          "grade": false,
          "grade_id": "cell-78df1483b44c6dd6",
          "locked": false,
          "schema_version": 3,
          "solution": true,
          "task": false
        },
        "outputId": "745e94c1-3b9a-45fa-e0bb-dc5dbff5b469",
        "colab": {
          "base_uri": "https://localhost:8080/"
        }
      },
      "source": [
        "# Task 6\n",
        "\n",
        "# YOUR CODE HERE\n",
        "cross_tab_norm2 = pd.crosstab(index= df['Survived'],columns=df['Pclass'], normalize=\"columns\")\n",
        "# cross_tab_norm2\n",
        "p_b_given_a = cross_tab_norm2[1][1]\n",
        "print('The value of P(B given A) is:', p_b_given_a)"
      ],
      "execution_count": 61,
      "outputs": [
        {
          "output_type": "stream",
          "name": "stdout",
          "text": [
            "The value of P(B given A) is: 0.6296296296296297\n"
          ]
        }
      ]
    },
    {
      "cell_type": "markdown",
      "metadata": {
        "id": "bK-0gwSLfV0v"
      },
      "source": [
        "**Task 6 - Test**"
      ]
    },
    {
      "cell_type": "code",
      "metadata": {
        "deletable": false,
        "editable": false,
        "id": "nPSLTZJXfV0v",
        "nbgrader": {
          "cell_type": "code",
          "checksum": "df2c67e9cb97b4905a2d83f50b1158cb",
          "grade": true,
          "grade_id": "cell-6b90b196728d2c90",
          "locked": true,
          "points": 1,
          "schema_version": 3,
          "solution": false,
          "task": false
        }
      },
      "source": [
        "# Task 6 - Test\n",
        "assert isinstance(cross_tab_norm2, pd.DataFrame), 'Did you create another new cross tabulation DataFrame?'"
      ],
      "execution_count": 62,
      "outputs": []
    },
    {
      "cell_type": "markdown",
      "metadata": {
        "id": "lxYJhvp1DkLS"
      },
      "source": [
        "**Task 7**\n",
        "\n",
        "So far, we have calculated the individual probabilities: P(A), P(B), P(A $\\cap$ B), P(A|B), and P(B|A). Now we're going to calculate the conditional probability P(A|B) using the following equation:\n",
        "\n",
        "$$P(A|B) = \\frac{P(A \\cap B)}{P(B)}$$\n",
        "\n",
        "* calculate the value of P(A|B) and assign it to the variable `calc1_p_a_given_b`\n",
        "* compare it to your value from Task 5 by testing if `p_a_given_b` is equal to `calc1_p_a_given_b` (use an assert statement!)"
      ]
    },
    {
      "cell_type": "code",
      "metadata": {
        "deletable": false,
        "id": "6_Vq5xZ2fV0v",
        "nbgrader": {
          "cell_type": "code",
          "checksum": "7c6c9ad080c3bdf1865ca3d105c53dc8",
          "grade": false,
          "grade_id": "cell-f247272a2857b88b",
          "locked": false,
          "schema_version": 3,
          "solution": true,
          "task": false
        },
        "outputId": "8bd4a6ac-1f11-4be0-ff09-312fbc89c43e",
        "colab": {
          "base_uri": "https://localhost:8080/"
        }
      },
      "source": [
        "# Task 7\n",
        "\n",
        "# YOUR CODE HERE\n",
        "calc1_p_a_given_b = p_a_and_b/p_b\n",
        "assert calc1_p_a_given_b==p_a_given_b, 'both probability are not same'\n",
        "print('The calculated value of P(A|B) is:', calc1_p_a_given_b)"
      ],
      "execution_count": 70,
      "outputs": [
        {
          "output_type": "stream",
          "name": "stdout",
          "text": [
            "The calculated value of P(A|B) is: 0.6296296296296297\n"
          ]
        }
      ]
    },
    {
      "cell_type": "markdown",
      "metadata": {
        "id": "zr9B_5g8fV0w"
      },
      "source": [
        "**Task 7 - Test**"
      ]
    },
    {
      "cell_type": "code",
      "metadata": {
        "deletable": false,
        "editable": false,
        "id": "qTxbF-uRfV0w",
        "nbgrader": {
          "cell_type": "code",
          "checksum": "869e15b8e27675436cd3f1aa6caaf6dd",
          "grade": true,
          "grade_id": "cell-04815f7901139e23",
          "locked": true,
          "points": 1,
          "schema_version": 3,
          "solution": false,
          "task": false
        }
      },
      "source": [
        "# Task 7 - Test\n",
        "\n",
        "# Use this test to check your answer before submitting to Canvas/CodeGrade\n",
        "assert round(calc1_p_a_given_b, 1)== round(p_a_given_b, 1), 'Did you use the correct variables in your calculation?'\n"
      ],
      "execution_count": 66,
      "outputs": []
    },
    {
      "cell_type": "markdown",
      "metadata": {
        "id": "M2pRVt7ADsFk"
      },
      "source": [
        "**Task 8**\n",
        "\n",
        "Finally, we're at the last calculation! We want to calculate P(A|B) again, using Bayes' Theorem:\n",
        "\n",
        "$$P(A|B) = \\frac{P(B|A)P(A)}{P(B)}$$\n",
        "\n",
        "* calculate the value of P(A|B) and assign it to the variable `calc2_p_a_given_b` (*notice the new variable name*)\n",
        "* compare it to your value from Task 5 by testing if p_a_given_b is equal to `calc2_p_a_given_b` (again, use an assert statement)"
      ]
    },
    {
      "cell_type": "code",
      "metadata": {
        "deletable": false,
        "id": "pC0WbOFifV0w",
        "nbgrader": {
          "cell_type": "code",
          "checksum": "8076b6d8ba94230f061309165e69793f",
          "grade": false,
          "grade_id": "cell-c917c91e48739649",
          "locked": false,
          "schema_version": 3,
          "solution": true,
          "task": false
        },
        "outputId": "45390244-2cbe-4ba3-a89c-4407420bb7b5",
        "colab": {
          "base_uri": "https://localhost:8080/"
        }
      },
      "source": [
        "# Task 8\n",
        "\n",
        "# YOUR CODE HERE\n",
        "p_b_given_a = cross_tab[1][1]/cross_tab[1]['All']\n",
        "calc2_p_a_given_b = (p_b_given_a*p_a)/p_b\n",
        "print(\"The calculated value of P(A|B) using Bayes' Theorem is:\", calc2_p_a_given_b)"
      ],
      "execution_count": 75,
      "outputs": [
        {
          "output_type": "stream",
          "name": "stdout",
          "text": [
            "The calculated value of P(A|B) using Bayes' Theorem is: 0.6296296296296297\n"
          ]
        }
      ]
    },
    {
      "cell_type": "markdown",
      "metadata": {
        "id": "wSpwrX8efV0w"
      },
      "source": [
        "**Task 8 - Test**"
      ]
    },
    {
      "cell_type": "code",
      "metadata": {
        "deletable": false,
        "editable": false,
        "id": "wQhD60bafV0w",
        "nbgrader": {
          "cell_type": "code",
          "checksum": "8dafbfdaeb584218c28d4f26ebde540c",
          "grade": true,
          "grade_id": "cell-5b3ded4417bd9d18",
          "locked": true,
          "points": 1,
          "schema_version": 3,
          "solution": false,
          "task": false
        }
      },
      "source": [
        "# Task 8 - Test\n",
        "\n",
        "# Use this test to check your answer before submitting to Canvas/CodeGrade\n",
        "assert round(calc2_p_a_given_b, 1) == round(p_a_given_b, 1), 'Did you use the correct variables in your calculation?'"
      ],
      "execution_count": 76,
      "outputs": []
    },
    {
      "cell_type": "markdown",
      "metadata": {
        "id": "SB1m04Zf16Lo"
      },
      "source": [
        "## Part B\n",
        "\n",
        "### Hogwarts Sorting Hat and Conditional Probabilities\n",
        "\n",
        "Use the following information to complete Tasks 9 - 13\n",
        "\n",
        "\n",
        "Students arriving at Hogwarts are sorted into one of the four residential houses -- Gryffindor, Hufflepuff, Ravenclaw, and Slytherin -- by the magical Sorting Hat.\n",
        "\n",
        "In theory, the Hat is supposed to examine each student's personality, consider his or her wishes, and then place the student into the most appropriate house. However, after a thousand years, the Hat has gotten pretty lazy, so it has simplified its sorting process into a two-step algorithm:\n",
        "\n",
        "* All evil students go into Slytherin, obviously.\n",
        "\n",
        "* Everybody else is just randomly sorted into one of the four houses, with a 40% probability of being put into Hufflepuff and a 20% probability of being put into each of the three other houses.\n",
        "\n",
        "Hermione is shocked when she's sorted into Slytherin! She's never thought of herself as evil, but now that she considers it, becoming the future Dark Lady of Magical Britain does have some appeal...\n",
        "\n",
        "**If 10% of new Hogwarts students are evil, what is the probability that a randomly chosen Slytherin is evil?**\n",
        "\n",
        "*Hint: the value you want is P(Evil | Slytherin).*"
      ]
    },
    {
      "cell_type": "markdown",
      "metadata": {
        "id": "TB-dEdYIvXev"
      },
      "source": [
        "**Task 9** - Write out probability steps\n",
        "\n",
        "Write the relationship used to P(Evil|Slitherin) from P(Slithern|Evil), p(Evil) and P(Slytherin):\n",
        "\n",
        "* this Task is not autograded; write out your steps in the following markdown cell"
      ]
    },
    {
      "cell_type": "markdown",
      "metadata": {
        "id": "KcZoKPPOfV0x"
      },
      "source": [
        "**Task 9** - ANSWER\n",
        "\n",
        "\n",
        "Consdie 100 students enters then\n",
        "\n",
        "\n",
        "![Screenshot 2023-07-19 at 11.56.57 PM.png](data:image/png;base64,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)\n",
        "\n",
        "P(Evil|Slitherin) = (P(Slithern|Evil) * p(Evil))/P(Slytherin)"
      ]
    },
    {
      "cell_type": "markdown",
      "metadata": {
        "id": "HzceET6m6qH-"
      },
      "source": [
        "**Task 10** - Determine P(Slytherin|Evil)\n",
        "\n",
        "Using the description in Part B above, determine P(Slytherin|Evil)\n",
        "\n",
        "* assign your value to the variable `p_slytherin_given_evil`"
      ]
    },
    {
      "cell_type": "code",
      "metadata": {
        "deletable": false,
        "id": "xw6XgTeYfV0x",
        "nbgrader": {
          "cell_type": "code",
          "checksum": "354796566a2c53dc24495ccba5ca8cc1",
          "grade": false,
          "grade_id": "cell-261fe68593bd204f",
          "locked": false,
          "schema_version": 3,
          "solution": true,
          "task": false
        },
        "outputId": "cc4d0b1f-1a58-44c9-a28b-4e4046a7b4f7",
        "colab": {
          "base_uri": "https://localhost:8080/"
        }
      },
      "source": [
        "# Task 10\n",
        "\n",
        "# YOUR CODE HERE\n",
        "import pandas as pd\n",
        "\n",
        "data = [[10, 0],\n",
        "    [18, 72]]\n",
        "\n",
        "df = pd.DataFrame(data, index=['Evil', 'Not evil'],columns=['Syntherin','other'])\n",
        "print(df)\n",
        "\n",
        "# print(\"The probability of being Slytherin given a student is evil is:\", p_slytherin_given_evil)"
      ],
      "execution_count": 85,
      "outputs": [
        {
          "output_type": "stream",
          "name": "stdout",
          "text": [
            "          Syntherin  other\n",
            "Evil             10      0\n",
            "Not evil         18     72\n"
          ]
        }
      ]
    },
    {
      "cell_type": "markdown",
      "metadata": {
        "id": "eqWOb2NifV0x"
      },
      "source": [
        "**Task 10 - Test**"
      ]
    },
    {
      "cell_type": "code",
      "metadata": {
        "deletable": false,
        "editable": false,
        "id": "On-8VjnAfV0y",
        "nbgrader": {
          "cell_type": "code",
          "checksum": "a4b2132c1b2837629b2c0cf2ac6388da",
          "grade": true,
          "grade_id": "cell-5ea3c604f8c46a38",
          "locked": true,
          "points": 1,
          "schema_version": 3,
          "solution": false,
          "task": false
        }
      },
      "source": [
        "# Task 10 - Test\n",
        "# Hidden tests - you will see the results when you submit to Canvas"
      ],
      "execution_count": null,
      "outputs": []
    },
    {
      "cell_type": "markdown",
      "metadata": {
        "id": "J5tvhwT662fm"
      },
      "source": [
        "**Task 11** - Determine P(Evil)\n",
        "\n",
        "Using the description in Part B above, determine P(Evil)\n",
        "\n",
        "* assign your value to the variable `p_evil`"
      ]
    },
    {
      "cell_type": "code",
      "metadata": {
        "deletable": false,
        "id": "QJzsVlK2fV0y",
        "nbgrader": {
          "cell_type": "code",
          "checksum": "d9fa35e322f690a6c3211fab91abad2f",
          "grade": false,
          "grade_id": "cell-6c3502e03a1033ff",
          "locked": false,
          "schema_version": 3,
          "solution": true,
          "task": false
        }
      },
      "source": [
        "# Task 11\n",
        "\n",
        "# YOUR CODE HERE\n",
        "raise NotImplementedError()\n",
        "\n",
        "print(\"The probability of being an evil student is:\", p_evil)"
      ],
      "execution_count": null,
      "outputs": []
    },
    {
      "cell_type": "markdown",
      "metadata": {
        "id": "LVE54OXmfV0y"
      },
      "source": [
        "**Task 11 - Test**"
      ]
    },
    {
      "cell_type": "code",
      "metadata": {
        "deletable": false,
        "editable": false,
        "id": "XqjOJXAz67fe",
        "nbgrader": {
          "cell_type": "code",
          "checksum": "6169e3a8b73f62b9867075c2781dde39",
          "grade": true,
          "grade_id": "cell-e2ec0f21d4609dfd",
          "locked": true,
          "points": 1,
          "schema_version": 3,
          "solution": false,
          "task": false
        }
      },
      "source": [
        "# Task 11 - Test\n",
        "# Hidden tests - you will see the results when you submit to Canvas"
      ],
      "execution_count": null,
      "outputs": []
    },
    {
      "cell_type": "markdown",
      "metadata": {
        "id": "rbNyx9Pd6_ze"
      },
      "source": [
        "**Task 12** - Determine P(Slytherin)\n",
        "\n",
        "Hint: This is a little tricky.  This is equal to the probability of a student being evil (and therefore being sorted into Slytherin) **added to** the probability of not being evil and being sorted into Slytherin.\n",
        "\n",
        "* assign the value of P(NOT Evil and Slytherin) to `p_not_evil_and_slytherin`\n",
        "* calculate the value of P(Slytherin) and assign it to `p_slytherin`"
      ]
    },
    {
      "cell_type": "code",
      "metadata": {
        "deletable": false,
        "id": "V7Idj7fWfV0y",
        "nbgrader": {
          "cell_type": "code",
          "checksum": "ff61bb598a9362d4a1df80f9d14ac513",
          "grade": false,
          "grade_id": "cell-4901b7dcdcfe8395",
          "locked": false,
          "schema_version": 3,
          "solution": true,
          "task": false
        }
      },
      "source": [
        "# Task 12\n",
        "\n",
        "# YOUR CODE HERE\n",
        "raise NotImplementedError()\n",
        "\n",
        "print(\"The probability of a student being in Slytherin is:\", p_slytherin)"
      ],
      "execution_count": null,
      "outputs": []
    },
    {
      "cell_type": "markdown",
      "metadata": {
        "id": "HBbbPtQ8fV0z"
      },
      "source": [
        "**Task 12 - Test**"
      ]
    },
    {
      "cell_type": "code",
      "metadata": {
        "deletable": false,
        "editable": false,
        "id": "ONbh5xwlfV0z",
        "nbgrader": {
          "cell_type": "code",
          "checksum": "eac335f215b9109dd8e1560e725cb72a",
          "grade": true,
          "grade_id": "cell-eb712e5d7e1db780",
          "locked": true,
          "points": 1,
          "schema_version": 3,
          "solution": false,
          "task": false
        }
      },
      "source": [
        "# Task 12 - Test\n",
        "# Hidden tests - you will see the results when you submit to Canvas"
      ],
      "execution_count": null,
      "outputs": []
    },
    {
      "cell_type": "markdown",
      "metadata": {
        "id": "K_hfqxQg7pZo"
      },
      "source": [
        "**Task 13** - Calculate P(Evil|Slytherin)\n",
        "\n",
        "We have arrived at the final Sorting Hat calculation! Now, we're are going to calculate the probability of P(Evil|Slytherin) using the following equation:\n",
        "\n",
        "$$P(Evil|Slytherin)= \\frac{P(Slytherin|Evil)P(Evil)}{P(Slytherin)}$$\n",
        "\n",
        "* calculate P(Evil|Slytherin) and assign it to `p_evil_given_slytherin`"
      ]
    },
    {
      "cell_type": "code",
      "metadata": {
        "deletable": false,
        "id": "_SvOUvMOfV0z",
        "nbgrader": {
          "cell_type": "code",
          "checksum": "fb079c77bb6d78ddc7636805eac75209",
          "grade": false,
          "grade_id": "cell-8739d8cd9cb5d70e",
          "locked": false,
          "schema_version": 3,
          "solution": true,
          "task": false
        }
      },
      "source": [
        "# Task 13\n",
        "\n",
        "# YOUR CODE HERE\n",
        "raise NotImplementedError()"
      ],
      "execution_count": null,
      "outputs": []
    },
    {
      "cell_type": "markdown",
      "metadata": {
        "id": "Z9QDNH8DfV0z"
      },
      "source": [
        "**Task 13 - Test**"
      ]
    },
    {
      "cell_type": "code",
      "metadata": {
        "deletable": false,
        "editable": false,
        "id": "xMt0fykG7_BR",
        "nbgrader": {
          "cell_type": "code",
          "checksum": "355ac95a73cd869948cb4a96dabf5dc4",
          "grade": true,
          "grade_id": "cell-aa9312dca132f04b",
          "locked": true,
          "points": 1,
          "schema_version": 3,
          "solution": false,
          "task": false
        }
      },
      "source": [
        "# Task 13 - Test\n",
        "# Hidden tests - you will see the results when you submit to Canvas"
      ],
      "execution_count": null,
      "outputs": []
    }
  ]
}