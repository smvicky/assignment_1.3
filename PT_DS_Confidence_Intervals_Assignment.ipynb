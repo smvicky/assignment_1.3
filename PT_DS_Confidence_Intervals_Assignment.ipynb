{
  "nbformat": 4,
  "nbformat_minor": 0,
  "metadata": {
    "colab": {
      "provenance": [],
      "include_colab_link": true
    },
    "kernelspec": {
      "display_name": "Python 3",
      "language": "python",
      "name": "python3"
    },
    "language_info": {
      "codemirror_mode": {
        "name": "ipython",
        "version": 3
      },
      "file_extension": ".py",
      "mimetype": "text/x-python",
      "name": "python",
      "nbconvert_exporter": "python",
      "pygments_lexer": "ipython3",
      "version": "3.7.4"
    }
  },
  "cells": [
    {
      "cell_type": "markdown",
      "metadata": {
        "id": "view-in-github",
        "colab_type": "text"
      },
      "source": [
        "<a href=\"https://colab.research.google.com/github/smvicky/assignment_1.3/blob/module2.3/PT_DS_Confidence_Intervals_Assignment.ipynb\" target=\"_parent\"><img src=\"https://colab.research.google.com/assets/colab-badge.svg\" alt=\"Open In Colab\"/></a>"
      ]
    },
    {
      "cell_type": "markdown",
      "metadata": {
        "id": "KL6nrYfFIUic"
      },
      "source": [
        "## Autograded Notebook (Canvas & CodeGrade)\n",
        "\n",
        "This notebook will be automatically graded. It is designed to test your answers and award points for the correct answers. Following the instructions for each Task carefully.\n",
        "\n",
        "### Instructions\n",
        "\n",
        "* **Download this notebook** as you would any other ipynb file\n",
        "* **Upload** to Google Colab or work locally (if you have that set-up)\n",
        "* **Delete `raise NotImplementedError()`**\n",
        "* Write your code in the `# YOUR CODE HERE` space\n",
        "* **Execute** the Test cells that contain `assert` statements - these help you check your work (others contain hidden tests that will be checked when you submit through Canvas)\n",
        "* **Save** your notebook when you are finished\n",
        "* **Download** as a `ipynb` file (if working in Colab)\n",
        "* **Upload** your complete notebook to Canvas (there will be additional instructions in Slack and/or Canvas)"
      ]
    },
    {
      "cell_type": "markdown",
      "metadata": {
        "id": "eI13byJQrZgw"
      },
      "source": [
        "# Pixeltests School Data Science - Unit 1 Sprint 2 Module 3\n",
        "\n",
        "## Module Project: Sampling and Confidence Intervals\n",
        "\n",
        "### Objectives\n",
        "\n",
        "* Objective 01 - explain the concepts of statistical estimate, precision, and standard error as they apply to inferential statistics\n",
        "* Objective 02 - explain the implications of the central limit theorem in inferential statistics\n",
        "* Objective 03 - explain the purpose of and identify applications for confidence intervals\n",
        "* Objective 04 - demonstrate how to build a confidence interval around a sample estimate\n",
        "\n",
        "\n",
        "#### Total notebook points: 9"
      ]
    },
    {
      "cell_type": "markdown",
      "metadata": {
        "id": "g_c3L9CeANiJ"
      },
      "source": [
        "## Introduction\n",
        "\n",
        "### Confidence Intervals\n",
        "\n",
        "Soft drinks like Coke and Pepsi are manufactured to have a standard caffeine content. For example, a 12-oz serving of Coke has 34mg of caffeine, and a 12-oz serving of Pepsi has 37.6mg of caffeine. However, fountain soft drinks are typically mixed in individual restaurant dispensers, so it is more difficult to maintain a standard level of caffeine per serving.\n",
        "\n",
        "In this study, researchers randomly sampled Coke, Diet Coke, Pepsi, and Diet Pepsi at a set of franchise restaurants and measured the caffeine content in 12oz of each soft drink.\n",
        "\n",
        "Because individuals can be sensitive to caffeine – and because the manufacturers are interested in product consistency – **we wish to estimate the mean caffeine content in 12oz of Coke served in franchise restaurants using a 95% confidence interval.**\n",
        "\n",
        "\n",
        "### Data set\n",
        "\n",
        "The data set for Coke is available at the link provided below. The first variable is the sample ID and the second variable is the caffeine content (in mg) in the 12oz sample.\n",
        "\n",
        "*Source: A.N. Garand and L.N. Bell (1997). \"Caffeine Content of Fountain and Private-Label Store Brand Carbonated Beverages,\" Journal of the American Dietetic Association, Vol. 97, #2, pp. 179-182.*"
      ]
    },
    {
      "cell_type": "markdown",
      "metadata": {
        "id": "oaJpAIakUo31"
      },
      "source": [
        "**Task 1** - Load the data\n",
        "\n",
        "Load the dataset using the provided URL\n",
        "\n",
        "* Read in your data as a pandas DataFrame with the variable name `coke_df`\n",
        "* Use the `.head()` method to take a look at the DataFrame"
      ]
    },
    {
      "cell_type": "code",
      "metadata": {
        "deletable": false,
        "id": "yXwMJQGrAIbO",
        "nbgrader": {
          "cell_type": "code",
          "checksum": "39fa2cb7c4f5c5bf61c00a1c1e4c765c",
          "grade": false,
          "grade_id": "cell-fca1a016c0983805",
          "locked": false,
          "schema_version": 3,
          "solution": true,
          "task": false
        },
        "colab": {
          "base_uri": "https://localhost:8080/",
          "height": 206
        },
        "outputId": "dd22b8e9-2bb7-4108-ca0e-abfc07007d1d"
      },
      "source": [
        "# Task 1\n",
        "\n",
        "# Imports\n",
        "import pandas as pd\n",
        "import numpy as np\n",
        "\n",
        "# URL for the data\n",
        "data_url = 'https://raw.githubusercontent.com/pixeltests/datasets/main/Soda.csv'\n",
        "\n",
        "# YOUR CODE HERE\n",
        "coke_df= pd.read_csv(data_url)\n",
        "\n",
        "# Look at your DataFrame\n",
        "coke_df.head()"
      ],
      "execution_count": 2,
      "outputs": [
        {
          "output_type": "execute_result",
          "data": {
            "text/plain": [
              "   Drink  Caffeine\n",
              "0      1     47.32\n",
              "1      2     43.78\n",
              "2      3     48.12\n",
              "3      4     43.25\n",
              "4      5     46.42"
            ],
            "text/html": [
              "\n",
              "\n",
              "  <div id=\"df-5aaeb9f0-f06a-4536-b18c-ed5ea75094ec\">\n",
              "    <div class=\"colab-df-container\">\n",
              "      <div>\n",
              "<style scoped>\n",
              "    .dataframe tbody tr th:only-of-type {\n",
              "        vertical-align: middle;\n",
              "    }\n",
              "\n",
              "    .dataframe tbody tr th {\n",
              "        vertical-align: top;\n",
              "    }\n",
              "\n",
              "    .dataframe thead th {\n",
              "        text-align: right;\n",
              "    }\n",
              "</style>\n",
              "<table border=\"1\" class=\"dataframe\">\n",
              "  <thead>\n",
              "    <tr style=\"text-align: right;\">\n",
              "      <th></th>\n",
              "      <th>Drink</th>\n",
              "      <th>Caffeine</th>\n",
              "    </tr>\n",
              "  </thead>\n",
              "  <tbody>\n",
              "    <tr>\n",
              "      <th>0</th>\n",
              "      <td>1</td>\n",
              "      <td>47.32</td>\n",
              "    </tr>\n",
              "    <tr>\n",
              "      <th>1</th>\n",
              "      <td>2</td>\n",
              "      <td>43.78</td>\n",
              "    </tr>\n",
              "    <tr>\n",
              "      <th>2</th>\n",
              "      <td>3</td>\n",
              "      <td>48.12</td>\n",
              "    </tr>\n",
              "    <tr>\n",
              "      <th>3</th>\n",
              "      <td>4</td>\n",
              "      <td>43.25</td>\n",
              "    </tr>\n",
              "    <tr>\n",
              "      <th>4</th>\n",
              "      <td>5</td>\n",
              "      <td>46.42</td>\n",
              "    </tr>\n",
              "  </tbody>\n",
              "</table>\n",
              "</div>\n",
              "      <button class=\"colab-df-convert\" onclick=\"convertToInteractive('df-5aaeb9f0-f06a-4536-b18c-ed5ea75094ec')\"\n",
              "              title=\"Convert this dataframe to an interactive table.\"\n",
              "              style=\"display:none;\">\n",
              "\n",
              "  <svg xmlns=\"http://www.w3.org/2000/svg\" height=\"24px\"viewBox=\"0 0 24 24\"\n",
              "       width=\"24px\">\n",
              "    <path d=\"M0 0h24v24H0V0z\" fill=\"none\"/>\n",
              "    <path d=\"M18.56 5.44l.94 2.06.94-2.06 2.06-.94-2.06-.94-.94-2.06-.94 2.06-2.06.94zm-11 1L8.5 8.5l.94-2.06 2.06-.94-2.06-.94L8.5 2.5l-.94 2.06-2.06.94zm10 10l.94 2.06.94-2.06 2.06-.94-2.06-.94-.94-2.06-.94 2.06-2.06.94z\"/><path d=\"M17.41 7.96l-1.37-1.37c-.4-.4-.92-.59-1.43-.59-.52 0-1.04.2-1.43.59L10.3 9.45l-7.72 7.72c-.78.78-.78 2.05 0 2.83L4 21.41c.39.39.9.59 1.41.59.51 0 1.02-.2 1.41-.59l7.78-7.78 2.81-2.81c.8-.78.8-2.07 0-2.86zM5.41 20L4 18.59l7.72-7.72 1.47 1.35L5.41 20z\"/>\n",
              "  </svg>\n",
              "      </button>\n",
              "\n",
              "\n",
              "\n",
              "    <div id=\"df-d9fd70dd-9722-4890-96b3-65f6ef8c0b8f\">\n",
              "      <button class=\"colab-df-quickchart\" onclick=\"quickchart('df-d9fd70dd-9722-4890-96b3-65f6ef8c0b8f')\"\n",
              "              title=\"Suggest charts.\"\n",
              "              style=\"display:none;\">\n",
              "\n",
              "<svg xmlns=\"http://www.w3.org/2000/svg\" height=\"24px\"viewBox=\"0 0 24 24\"\n",
              "     width=\"24px\">\n",
              "    <g>\n",
              "        <path d=\"M19 3H5c-1.1 0-2 .9-2 2v14c0 1.1.9 2 2 2h14c1.1 0 2-.9 2-2V5c0-1.1-.9-2-2-2zM9 17H7v-7h2v7zm4 0h-2V7h2v10zm4 0h-2v-4h2v4z\"/>\n",
              "    </g>\n",
              "</svg>\n",
              "      </button>\n",
              "    </div>\n",
              "\n",
              "<style>\n",
              "  .colab-df-quickchart {\n",
              "    background-color: #E8F0FE;\n",
              "    border: none;\n",
              "    border-radius: 50%;\n",
              "    cursor: pointer;\n",
              "    display: none;\n",
              "    fill: #1967D2;\n",
              "    height: 32px;\n",
              "    padding: 0 0 0 0;\n",
              "    width: 32px;\n",
              "  }\n",
              "\n",
              "  .colab-df-quickchart:hover {\n",
              "    background-color: #E2EBFA;\n",
              "    box-shadow: 0px 1px 2px rgba(60, 64, 67, 0.3), 0px 1px 3px 1px rgba(60, 64, 67, 0.15);\n",
              "    fill: #174EA6;\n",
              "  }\n",
              "\n",
              "  [theme=dark] .colab-df-quickchart {\n",
              "    background-color: #3B4455;\n",
              "    fill: #D2E3FC;\n",
              "  }\n",
              "\n",
              "  [theme=dark] .colab-df-quickchart:hover {\n",
              "    background-color: #434B5C;\n",
              "    box-shadow: 0px 1px 3px 1px rgba(0, 0, 0, 0.15);\n",
              "    filter: drop-shadow(0px 1px 2px rgba(0, 0, 0, 0.3));\n",
              "    fill: #FFFFFF;\n",
              "  }\n",
              "</style>\n",
              "\n",
              "    <script>\n",
              "      async function quickchart(key) {\n",
              "        const containerElement = document.querySelector('#' + key);\n",
              "        const charts = await google.colab.kernel.invokeFunction(\n",
              "            'suggestCharts', [key], {});\n",
              "      }\n",
              "    </script>\n",
              "\n",
              "      <script>\n",
              "\n",
              "function displayQuickchartButton(domScope) {\n",
              "  let quickchartButtonEl =\n",
              "    domScope.querySelector('#df-d9fd70dd-9722-4890-96b3-65f6ef8c0b8f button.colab-df-quickchart');\n",
              "  quickchartButtonEl.style.display =\n",
              "    google.colab.kernel.accessAllowed ? 'block' : 'none';\n",
              "}\n",
              "\n",
              "        displayQuickchartButton(document);\n",
              "      </script>\n",
              "      <style>\n",
              "    .colab-df-container {\n",
              "      display:flex;\n",
              "      flex-wrap:wrap;\n",
              "      gap: 12px;\n",
              "    }\n",
              "\n",
              "    .colab-df-convert {\n",
              "      background-color: #E8F0FE;\n",
              "      border: none;\n",
              "      border-radius: 50%;\n",
              "      cursor: pointer;\n",
              "      display: none;\n",
              "      fill: #1967D2;\n",
              "      height: 32px;\n",
              "      padding: 0 0 0 0;\n",
              "      width: 32px;\n",
              "    }\n",
              "\n",
              "    .colab-df-convert:hover {\n",
              "      background-color: #E2EBFA;\n",
              "      box-shadow: 0px 1px 2px rgba(60, 64, 67, 0.3), 0px 1px 3px 1px rgba(60, 64, 67, 0.15);\n",
              "      fill: #174EA6;\n",
              "    }\n",
              "\n",
              "    [theme=dark] .colab-df-convert {\n",
              "      background-color: #3B4455;\n",
              "      fill: #D2E3FC;\n",
              "    }\n",
              "\n",
              "    [theme=dark] .colab-df-convert:hover {\n",
              "      background-color: #434B5C;\n",
              "      box-shadow: 0px 1px 3px 1px rgba(0, 0, 0, 0.15);\n",
              "      filter: drop-shadow(0px 1px 2px rgba(0, 0, 0, 0.3));\n",
              "      fill: #FFFFFF;\n",
              "    }\n",
              "  </style>\n",
              "\n",
              "      <script>\n",
              "        const buttonEl =\n",
              "          document.querySelector('#df-5aaeb9f0-f06a-4536-b18c-ed5ea75094ec button.colab-df-convert');\n",
              "        buttonEl.style.display =\n",
              "          google.colab.kernel.accessAllowed ? 'block' : 'none';\n",
              "\n",
              "        async function convertToInteractive(key) {\n",
              "          const element = document.querySelector('#df-5aaeb9f0-f06a-4536-b18c-ed5ea75094ec');\n",
              "          const dataTable =\n",
              "            await google.colab.kernel.invokeFunction('convertToInteractive',\n",
              "                                                     [key], {});\n",
              "          if (!dataTable) return;\n",
              "\n",
              "          const docLinkHtml = 'Like what you see? Visit the ' +\n",
              "            '<a target=\"_blank\" href=https://colab.research.google.com/notebooks/data_table.ipynb>data table notebook</a>'\n",
              "            + ' to learn more about interactive tables.';\n",
              "          element.innerHTML = '';\n",
              "          dataTable['output_type'] = 'display_data';\n",
              "          await google.colab.output.renderOutput(dataTable, element);\n",
              "          const docLink = document.createElement('div');\n",
              "          docLink.innerHTML = docLinkHtml;\n",
              "          element.appendChild(docLink);\n",
              "        }\n",
              "      </script>\n",
              "    </div>\n",
              "  </div>\n"
            ]
          },
          "metadata": {},
          "execution_count": 2
        }
      ]
    },
    {
      "cell_type": "markdown",
      "metadata": {
        "id": "9CcZWjVTWWKx"
      },
      "source": [
        "**Task 1 - Test**"
      ]
    },
    {
      "cell_type": "code",
      "metadata": {
        "deletable": false,
        "editable": false,
        "id": "Wy5nje-6WWKy",
        "nbgrader": {
          "cell_type": "code",
          "checksum": "cf81214a607ac74d51a62bc2803b7a59",
          "grade": true,
          "grade_id": "cell-452f06bde3155ced",
          "locked": true,
          "points": 1,
          "schema_version": 3,
          "solution": false,
          "task": false
        }
      },
      "source": [
        "# Task 1 Test\n",
        "\n",
        "assert isinstance(coke_df, pd.DataFrame), 'Have you created a DataFrame named `coke_df`?'\n"
      ],
      "execution_count": 3,
      "outputs": []
    },
    {
      "cell_type": "markdown",
      "metadata": {
        "id": "wOQ-9E8uYcni"
      },
      "source": [
        "**Task 2** - Descriptive statistics\n",
        "\n",
        "Calculate the following statistical quantities for the `Caffeine` content column. Name your variables as indicated (they need to be an exact match to pass the tests).  Summarize your results in a sentence or two.\n",
        "\n",
        "* mean - `mean_caffeine`\n",
        "* standard deviation - `std_caffeine`\n",
        "* standard error - `se_caffeine`\n",
        "* number of samples - `n_caffeine`\n"
      ]
    },
    {
      "cell_type": "code",
      "metadata": {
        "deletable": false,
        "id": "m1vuFGxVQo64",
        "nbgrader": {
          "cell_type": "code",
          "checksum": "3668085b369d536693641a4e4aa1f9a9",
          "grade": false,
          "grade_id": "cell-e81d4e8fe2cef23f",
          "locked": false,
          "schema_version": 3,
          "solution": true,
          "task": false
        },
        "outputId": "60579baa-0c51-4ae3-bb37-63b33b66ef62",
        "colab": {
          "base_uri": "https://localhost:8080/"
        }
      },
      "source": [
        "import math\n",
        "# Task 2\n",
        "\n",
        "# Name your varaibles exactly as specified in the task\n",
        "\n",
        "# YOUR CODE HERE\n",
        "mean_caffeine = coke_df['Caffeine'].mean()\n",
        "std_caffeine = coke_df['Caffeine'].std()\n",
        "n_caffeine = len(coke_df['Caffeine'])\n",
        "# se_caffeine = std_caffeine/math.sqrt(n_caffeine)\n",
        "se_caffeine = coke_df['Caffeine'].sem()\n",
        "\n",
        "mean_caffeine, std_caffeine, n_caffeine,se_caffeine"
      ],
      "execution_count": 19,
      "outputs": [
        {
          "output_type": "execute_result",
          "data": {
            "text/plain": [
              "(37.940200000000004, 5.2437568282167115, 50, 0.7415792024250597)"
            ]
          },
          "metadata": {},
          "execution_count": 19
        }
      ]
    },
    {
      "cell_type": "markdown",
      "metadata": {
        "id": "AX9KYbSRWWKy"
      },
      "source": [
        "**Task 2 - Test**"
      ]
    },
    {
      "cell_type": "code",
      "metadata": {
        "deletable": false,
        "editable": false,
        "id": "D0tpFwz0WWKz",
        "nbgrader": {
          "cell_type": "code",
          "checksum": "f0136617a7b3677763650a2cbb30de02",
          "grade": true,
          "grade_id": "cell-735bc35d5a378801",
          "locked": true,
          "points": 1,
          "schema_version": 3,
          "solution": false,
          "task": false
        }
      },
      "source": [
        "# Task 2 Test\n",
        "\n",
        "assert n_caffeine == 50, 'Did you correctly calculate the number of samples?'\n"
      ],
      "execution_count": 14,
      "outputs": []
    },
    {
      "cell_type": "markdown",
      "metadata": {
        "id": "y2Rz-8O-YmF9"
      },
      "source": [
        "**Task 2** - ANSWER\n",
        "\n",
        "Using the statistics you calculated above, write out your answer in words. Use the following format:\n",
        "\n",
        "*Example: The mean caffeine content is XXmg per 12oz serving with a standard error of XXmg. The sample size is XX.*\n",
        "\n",
        "This task will not be autograded - but it is part of completing the project.\n",
        "\n",
        "From above analysis we conclude that mena coffeine content is 37.94mg per 12oz serving for the samples size of 50 with a standard error of 0.74mg ."
      ]
    },
    {
      "cell_type": "markdown",
      "metadata": {
        "id": "RySL5E7GEHGf"
      },
      "source": [
        "**Task 3** - Calculate t*\n",
        "\n",
        "For this task you will calculate t* for a 95% confidence interval.\n",
        "\n",
        "* set the variable `deg_free` equal to the degrees of freedom for the `Caffeine` variable\n",
        "* set the variable `t_star` equal to t* using `t.ppf(q, df)` with `q=0.975` and `df = deg_free`\n",
        "\n",
        "Note: Don't worry about where the 0.975 value comes from - it relates to finding the *middle* of the 95% t-distribution. We're going to learn how to calculate the 95% confidence interval an easier way in the next exercise."
      ]
    },
    {
      "cell_type": "code",
      "metadata": {
        "deletable": false,
        "id": "ti9x37XSQ_yL",
        "nbgrader": {
          "cell_type": "code",
          "checksum": "0c1566fe385fd6336d3d59966d668163",
          "grade": false,
          "grade_id": "cell-ab557b231ecefc1d",
          "locked": false,
          "schema_version": 3,
          "solution": true,
          "task": false
        },
        "outputId": "9b3cb035-2e35-497b-8ed0-958025777e6b",
        "colab": {
          "base_uri": "https://localhost:8080/"
        }
      },
      "source": [
        "# Task 3\n",
        "\n",
        "from scipy.stats import t\n",
        "\n",
        "# YOUR CODE HERE\n",
        "deg_free = n_caffeine-1\n",
        "\n",
        "t_star= t.ppf(0.975,deg_free)\n",
        "# View your answer\n",
        "print('t_star =', t_star)"
      ],
      "execution_count": 15,
      "outputs": [
        {
          "output_type": "stream",
          "name": "stdout",
          "text": [
            "t_star = 2.009575234489209\n"
          ]
        }
      ]
    },
    {
      "cell_type": "markdown",
      "metadata": {
        "id": "R3JcXISZWWK0"
      },
      "source": [
        "**Task 3 - Test**"
      ]
    },
    {
      "cell_type": "code",
      "metadata": {
        "deletable": false,
        "editable": false,
        "id": "xAxHIgQdWWK0",
        "nbgrader": {
          "cell_type": "code",
          "checksum": "88d7b978c0c98f74141ce91b18028d8f",
          "grade": true,
          "grade_id": "cell-ea70eb8f030c2f57",
          "locked": true,
          "points": 1,
          "schema_version": 3,
          "solution": false,
          "task": false
        }
      },
      "source": [
        "# Task 3 Test\n",
        "# Hidden tests - you will see the results when you submit to Canvas"
      ],
      "execution_count": 16,
      "outputs": []
    },
    {
      "cell_type": "markdown",
      "metadata": {
        "id": "AddooPk1JBvQ"
      },
      "source": [
        "**Task 4** - Margin of error\n",
        "\n",
        "In this task you'll calculate the margin of error for a 95% confidence interval (CI) for the mean caffeine content in a 12-oz Coke.\n",
        "\n",
        "* Assign the margin of error for a 95% CI to the variable `margin_err`\n",
        "\n",
        "Hint: You already have the value for t* for a 95% CI and the standard error"
      ]
    },
    {
      "cell_type": "code",
      "metadata": {
        "deletable": false,
        "id": "IjjYtXodJW-b",
        "nbgrader": {
          "cell_type": "code",
          "checksum": "0ecab63b5b368345a097f5b7cd2a7b9c",
          "grade": false,
          "grade_id": "cell-fe91f19c7d908552",
          "locked": false,
          "schema_version": 3,
          "solution": true,
          "task": false
        },
        "outputId": "93cd016f-34fd-4c24-8e36-bd11b548b0f9",
        "colab": {
          "base_uri": "https://localhost:8080/"
        }
      },
      "source": [
        "# Task 4\n",
        "\n",
        "# YOUR CODE HERE\n",
        "margin_err = t_star * se_caffeine\n",
        "\n",
        "# View your answer\n",
        "print('Margin of error = ', margin_err)"
      ],
      "execution_count": 20,
      "outputs": [
        {
          "output_type": "stream",
          "name": "stdout",
          "text": [
            "Margin of error =  1.4902591996056598\n"
          ]
        }
      ]
    },
    {
      "cell_type": "markdown",
      "metadata": {
        "id": "Q5j-gZGFWWK0"
      },
      "source": [
        "**Task 4 - Test**"
      ]
    },
    {
      "cell_type": "code",
      "metadata": {
        "deletable": false,
        "editable": false,
        "id": "8FBGOirjWWK0",
        "nbgrader": {
          "cell_type": "code",
          "checksum": "5c96289d4b49fb3a3fca60fd6fc7517b",
          "grade": true,
          "grade_id": "cell-2258dd78f578b1be",
          "locked": true,
          "points": 1,
          "schema_version": 3,
          "solution": false,
          "task": false
        }
      },
      "source": [
        "# Task 4 Test\n",
        "# Hidden tests - you will see the results when you submit to Canvas"
      ],
      "execution_count": 21,
      "outputs": []
    },
    {
      "cell_type": "markdown",
      "metadata": {
        "id": "ePBmVZU7N2nq"
      },
      "source": [
        "**Task 4** - ANSWER\n",
        "\n",
        "Using the margin of error you calculated above, write out your answer in words. Use the following format:\n",
        "\n",
        "*Example: The margin of error is XXmg of caffeine per 12oz serving*\n",
        "\n",
        "This task will not be autograded - but it is part of completing the project.\n",
        "\n",
        "From the above margin of error calculation we can consider 95% of the values of coffeine lies between +/-1.94mg of the mean for caffeine per 12oz serving"
      ]
    },
    {
      "cell_type": "markdown",
      "metadata": {
        "id": "AtGASqgxYp5t"
      },
      "source": [
        "**Task 5** - Calculate a confidence interval\n",
        "\n",
        "For this task, you are going to calculate a 95% CI for the mean caffeine content in a 12-oz fountain Coke with the CI formula using the summary statistics and t* that you calculated above.\n",
        "\n",
        "* Calculate the lower confidence level and assign it to `lower_cl`\n",
        "* Calculate the upper confidence level and assign it to `upper_cl`"
      ]
    },
    {
      "cell_type": "code",
      "metadata": {
        "deletable": false,
        "id": "JPUE0osGEw0M",
        "nbgrader": {
          "cell_type": "code",
          "checksum": "0fa2db14b771419a2f02dceefe78cd48",
          "grade": false,
          "grade_id": "cell-2ee7b7b25af4e5fc",
          "locked": false,
          "schema_version": 3,
          "solution": true,
          "task": false
        },
        "outputId": "7c6e3892-2537-4f78-a349-ff5838322b1d",
        "colab": {
          "base_uri": "https://localhost:8080/"
        }
      },
      "source": [
        "# Task 5\n",
        "\n",
        "# YOUR CODE HERE\n",
        "lower_cl = mean_caffeine-margin_err\n",
        "upper_cl =  mean_caffeine+margin_err\n",
        "# View your answers\n",
        "print ('Lower confidence limit =', lower_cl)\n",
        "print ('Upper confidence limit =', upper_cl)"
      ],
      "execution_count": 22,
      "outputs": [
        {
          "output_type": "stream",
          "name": "stdout",
          "text": [
            "Lower confidence limit = 36.449940800394344\n",
            "Upper confidence limit = 39.430459199605664\n"
          ]
        }
      ]
    },
    {
      "cell_type": "markdown",
      "metadata": {
        "id": "K6sx4862WWK2"
      },
      "source": [
        "**Task 5 - Test**"
      ]
    },
    {
      "cell_type": "code",
      "metadata": {
        "deletable": false,
        "editable": false,
        "id": "yhvJ-oCnWWK2",
        "nbgrader": {
          "cell_type": "code",
          "checksum": "32d290e8e61b347efcab0440ff17e750",
          "grade": true,
          "grade_id": "cell-8ea440c5365e886d",
          "locked": true,
          "points": 1,
          "schema_version": 3,
          "solution": false,
          "task": false
        }
      },
      "source": [
        "# Task 5 Test\n",
        "# Hidden tests - you will see the results when you submit to Canvas"
      ],
      "execution_count": 23,
      "outputs": []
    },
    {
      "cell_type": "markdown",
      "metadata": {
        "id": "ENcdv9_4WWK2"
      },
      "source": [
        "**Task 5** - ANSWER\n",
        "\n",
        "Write out the confidence interval you just calculated. Use the following format:\n",
        "\n",
        "*Example: We are 95% confident that the true mean of the caffeine content is between [lower CL, upper CL]*\n",
        "\n",
        "This task will not be autograded - but it is part of completing the project.\n",
        "\n",
        "We are 95% confident that the true population mean of the coffeine content is between 36.44mg to 39.43mg\n"
      ]
    },
    {
      "cell_type": "markdown",
      "metadata": {
        "id": "gAKJlaMyEzVz"
      },
      "source": [
        "**Task 6** - 95% confidence interval using t-interval\n",
        "\n",
        "As promised in Task 4, we're going to calculate the confidence interval the easy way. We'll use the `t.interval()` function to calculate the 95% confidence interval.\n",
        "\n",
        "* Assign the confidence interval to `t_int_95`\n",
        "* `alpha` should be set equal to the confidence level\n",
        "* `df` is the degrees of freedom\n",
        "* `loc` is the sample mean\n",
        "* `scale` is the standard error of the distribution"
      ]
    },
    {
      "cell_type": "code",
      "metadata": {
        "deletable": false,
        "id": "GSo4uKWVFKwQ",
        "nbgrader": {
          "cell_type": "code",
          "checksum": "6986f57ed311466fa56e72c8cdc3932f",
          "grade": false,
          "grade_id": "cell-305db71f92847f07",
          "locked": false,
          "schema_version": 3,
          "solution": true,
          "task": false
        },
        "outputId": "415e67b5-0f32-4600-c6d3-afc51ce9d6d7",
        "colab": {
          "base_uri": "https://localhost:8080/"
        }
      },
      "source": [
        "from scipy.stats.distributions import alpha\n",
        "# Task 6\n",
        "\n",
        "# YOUR CODE HERE\n",
        "t_int_95 = t.interval(alpha=0.95,df= deg_free, loc=mean_caffeine, scale = se_caffeine)\n",
        "\n",
        "# View your answer\n",
        "print(t_int_95)"
      ],
      "execution_count": 25,
      "outputs": [
        {
          "output_type": "stream",
          "name": "stdout",
          "text": [
            "(36.449940800394344, 39.430459199605664)\n"
          ]
        },
        {
          "output_type": "stream",
          "name": "stderr",
          "text": [
            "<ipython-input-25-ced65a2663a7>:5: DeprecationWarning: Use of keyword argument 'alpha' for method 'interval' is deprecated and wil be removed in SciPy 1.11.0. Use first positional argument or keyword argument 'confidence' instead.\n",
            "  t_int_95 = t.interval(alpha=0.95,df= deg_free, loc=mean_caffeine, scale = se_caffeine)\n"
          ]
        }
      ]
    },
    {
      "cell_type": "markdown",
      "metadata": {
        "id": "GAA1UyYAWWK2"
      },
      "source": [
        "**Task 6 - Test**"
      ]
    },
    {
      "cell_type": "code",
      "metadata": {
        "deletable": false,
        "editable": false,
        "id": "D1L2kNVBWWK3",
        "nbgrader": {
          "cell_type": "code",
          "checksum": "20c9d66c41cf66793dbbce5dacb18fc4",
          "grade": true,
          "grade_id": "cell-752d977ae5d519c5",
          "locked": true,
          "points": 1,
          "schema_version": 3,
          "solution": false,
          "task": false
        }
      },
      "source": [
        "# Task 6 Test\n",
        "\n",
        "# Hidden tests - you will see the results when you submit to Canvas"
      ],
      "execution_count": 26,
      "outputs": []
    },
    {
      "cell_type": "markdown",
      "metadata": {
        "id": "w3AnXXbgWWK3"
      },
      "source": [
        "**Task 7** - Compare and interpret confidence intervals\n",
        "\n",
        "(This part is not graded and is practice for writing out your results.)\n",
        "\n",
        "Q1 - In this task, you are going to do your own test. Look at the two confidence intervals you calculated; are they equal? Should they be equal?\n",
        "\n",
        "ANSWER - yes both are equal\n",
        "\n",
        "Q2 - Interpret the meaning of the 95% confidence interval for the mean caffeine content in the 12oz fountain Coke in a sentence or two.\n",
        "\n",
        "ANSWER - the analysis and the interaval means that 95% of the fountain has the coffein level in mg for 12oz is in between 36.45mg to 39.43mg"
      ]
    },
    {
      "cell_type": "markdown",
      "metadata": {
        "id": "SpqgKQfTYvF0"
      },
      "source": [
        "**Task 8** - 90% confidence interval using t-interval\n",
        "\n",
        "Now that we've calculated a confidence interval at the 95% level, we'll repeat the calculation for a 90% confidence level.\n",
        "\n",
        "* assign the confidence interval to `t_int_90`\n",
        "* `alpha` is the confidence level\n",
        "* `df`, `loc`, `scale` are the same as for the first calculation"
      ]
    },
    {
      "cell_type": "code",
      "metadata": {
        "deletable": false,
        "id": "r1y1LE_dPAi6",
        "nbgrader": {
          "cell_type": "code",
          "checksum": "b7515456ef107982fab94eabdec08de8",
          "grade": false,
          "grade_id": "cell-a3a2e1cbb4072949",
          "locked": false,
          "schema_version": 3,
          "solution": true,
          "task": false
        },
        "outputId": "7a6763d0-d157-468e-e6e0-87b42b7a97d4",
        "colab": {
          "base_uri": "https://localhost:8080/"
        }
      },
      "source": [
        "# Task 8\n",
        "\n",
        "# YOUR CODE HERE\n",
        "t_int_90 = t.interval(alpha=0.90,df= deg_free, loc=mean_caffeine, scale = se_caffeine)\n",
        "\n",
        "# View your answer\n",
        "print(t_int_90)"
      ],
      "execution_count": 27,
      "outputs": [
        {
          "output_type": "stream",
          "name": "stdout",
          "text": [
            "(36.6969047267492, 39.183495273250806)\n"
          ]
        },
        {
          "output_type": "stream",
          "name": "stderr",
          "text": [
            "<ipython-input-27-03412216970a>:4: DeprecationWarning: Use of keyword argument 'alpha' for method 'interval' is deprecated and wil be removed in SciPy 1.11.0. Use first positional argument or keyword argument 'confidence' instead.\n",
            "  t_int_90 = t.interval(alpha=0.90,df= deg_free, loc=mean_caffeine, scale = se_caffeine)\n"
          ]
        }
      ]
    },
    {
      "cell_type": "markdown",
      "metadata": {
        "deletable": false,
        "editable": false,
        "id": "6G61U1UmWWK3",
        "nbgrader": {
          "cell_type": "markdown",
          "checksum": "95fe3ae434dad0372ba586ee30595f22",
          "grade": false,
          "grade_id": "cell-dc5dc02f2be6a3ef",
          "locked": true,
          "schema_version": 3,
          "solution": false,
          "task": false
        }
      },
      "source": [
        "**Task 8 - Test**"
      ]
    },
    {
      "cell_type": "code",
      "metadata": {
        "deletable": false,
        "editable": false,
        "id": "7WIQtB0PGJP4",
        "nbgrader": {
          "cell_type": "code",
          "checksum": "d6b7a7c6fc23109bb072a5bac785a844",
          "grade": true,
          "grade_id": "cell-8e36927f603d605f",
          "locked": true,
          "points": 1,
          "schema_version": 3,
          "solution": false,
          "task": false
        }
      },
      "source": [
        "# Task 8 Test\n",
        "\n",
        "# Hidden tests - you will see the results when you submit to Canvas"
      ],
      "execution_count": 28,
      "outputs": []
    },
    {
      "cell_type": "markdown",
      "metadata": {
        "deletable": false,
        "editable": false,
        "id": "_uVPp0CXWWK4",
        "nbgrader": {
          "cell_type": "markdown",
          "checksum": "a6cef21e89b481f73eb5c75bfd63ff6f",
          "grade": false,
          "grade_id": "cell-51ac39cd8ab2dc54",
          "locked": true,
          "schema_version": 3,
          "solution": false,
          "task": false
        }
      },
      "source": [
        "**Task 9** - 99% confidence interval using t-interval\n",
        "\n",
        "And, we'll complete one more confidence interval calculation, this time at the 99% level.\n",
        "\n",
        "* assign the confidence interval to `t_int_99`\n",
        "* `alpha` is the confidence level\n",
        "* `df`, `loc`, `scale` are the same as for the first two calculations"
      ]
    },
    {
      "cell_type": "code",
      "metadata": {
        "deletable": false,
        "id": "hQsmY8RnHKJf",
        "nbgrader": {
          "cell_type": "code",
          "checksum": "1e06c4771ecbe4758e73644dc16ad35f",
          "grade": false,
          "grade_id": "cell-f37ed1827b6fb632",
          "locked": false,
          "schema_version": 3,
          "solution": true,
          "task": false
        },
        "outputId": "cffaf7ab-ebc6-4c56-fb56-a25749edf5cb",
        "colab": {
          "base_uri": "https://localhost:8080/"
        }
      },
      "source": [
        "# Task 9\n",
        "\n",
        "# YOUR CODE HERE\n",
        "t_int_99=t.interval(alpha=0.99,df= deg_free, loc=mean_caffeine, scale = se_caffeine)\n",
        "\n",
        "# View your answer\n",
        "print(t_int_99)"
      ],
      "execution_count": 29,
      "outputs": [
        {
          "output_type": "stream",
          "name": "stdout",
          "text": [
            "(35.952803352856854, 39.927596647143154)\n"
          ]
        },
        {
          "output_type": "stream",
          "name": "stderr",
          "text": [
            "<ipython-input-29-6431febcd847>:4: DeprecationWarning: Use of keyword argument 'alpha' for method 'interval' is deprecated and wil be removed in SciPy 1.11.0. Use first positional argument or keyword argument 'confidence' instead.\n",
            "  t_int_99=t.interval(alpha=0.99,df= deg_free, loc=mean_caffeine, scale = se_caffeine)\n"
          ]
        }
      ]
    },
    {
      "cell_type": "markdown",
      "metadata": {
        "deletable": false,
        "editable": false,
        "id": "TjEWQZTfWWK4",
        "nbgrader": {
          "cell_type": "markdown",
          "checksum": "f97d10064cb38f4d8646e1317f33452e",
          "grade": false,
          "grade_id": "cell-e359e9f60e899925",
          "locked": true,
          "schema_version": 3,
          "solution": false,
          "task": false
        }
      },
      "source": [
        "**Task 9 - Test**"
      ]
    },
    {
      "cell_type": "code",
      "metadata": {
        "deletable": false,
        "editable": false,
        "id": "9DSrjIgzWWK4",
        "nbgrader": {
          "cell_type": "code",
          "checksum": "4af561bc3778212bf83a32d7a7f17f91",
          "grade": true,
          "grade_id": "cell-baa41a8080ef51cd",
          "locked": true,
          "points": 1,
          "schema_version": 3,
          "solution": false,
          "task": false
        }
      },
      "source": [
        "# Task 9 Test\n",
        "\n",
        "# Hidden tests - you will see the results when you submit to Canvas"
      ],
      "execution_count": 30,
      "outputs": []
    },
    {
      "cell_type": "markdown",
      "metadata": {
        "id": "liduCGIkJAC2"
      },
      "source": [
        "**Task 10** - Summarize confidence interval calculations\n",
        "\n",
        "This part is not autograded and is practice for writing out your results!\n",
        "\n",
        "Q1 -  Is the 90% confidence interval more accurate or more precise (pick one) than the 95% confidence interval?\n",
        "\n",
        "ANSWER\n",
        "\n",
        "Q2 -  Is the 99% confidence interval more accurate or more precise (pick one) than the 95% confidence interval?\n",
        "\n",
        "ANSWER"
      ]
    },
    {
      "cell_type": "markdown",
      "metadata": {
        "id": "nusDTdXxOyUB"
      },
      "source": [
        "**Task 10** Summarize confidence interval calculations\n",
        "\n",
        "Select the correct relationship between a 90%, 95% and 99% confidence interval. Specify your answer in the next code block using `Answer = `.  For example, if the correct answer is choice B, you'll type `Answer = 'B'`.\n",
        "\n",
        "A: A 95% confidence interval is the most accurate and precise confidence interval, which is why we always use it.\n",
        "\n",
        "B: A 90% confidence interval is more accurate and less precise than a 95% or 99% CI.\n",
        "\n",
        "C: A 99% confidence interval is more precise and accurate than a 95% or 90% CI.\n",
        "\n",
        "D: A 90% confidence interval is more precise and less accurate than a 95% or 99% CI.\n"
      ]
    },
    {
      "cell_type": "code",
      "metadata": {
        "deletable": false,
        "id": "d5n9MhFFOyUN",
        "nbgrader": {
          "cell_type": "code",
          "checksum": "09ee19e9d229cc53ac54885f4c189726",
          "grade": false,
          "grade_id": "cell-dbe5c2982095c5c6",
          "locked": false,
          "schema_version": 3,
          "solution": true,
          "task": false
        }
      },
      "source": [
        "# Task 10\n",
        "\n",
        "# YOUR CODE HERE\n",
        "raise NotImplementedError()\n"
      ],
      "execution_count": null,
      "outputs": []
    },
    {
      "cell_type": "markdown",
      "metadata": {
        "id": "DWAMbt2VOyUN"
      },
      "source": [
        "**Task 10 Test**"
      ]
    },
    {
      "cell_type": "code",
      "metadata": {
        "deletable": false,
        "editable": false,
        "nbgrader": {
          "cell_type": "code",
          "checksum": "5736d6b136cfd39419e8a99cd28faf95",
          "grade": true,
          "grade_id": "cell-eb6ba2e6e194b886",
          "locked": true,
          "points": 0,
          "schema_version": 3,
          "solution": false,
          "task": false
        },
        "id": "-BvlpE5JIUij"
      },
      "source": [
        "# Task 10 - Test\n",
        "# Hidden tests - you will see the results when you submit to Canvas"
      ],
      "execution_count": null,
      "outputs": []
    }
  ]
}